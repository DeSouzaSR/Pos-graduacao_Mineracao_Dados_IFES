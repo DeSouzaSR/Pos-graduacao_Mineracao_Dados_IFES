{
 "cells": [
  {
   "cell_type": "markdown",
   "metadata": {},
   "source": [
    "---\n",
    "title: \"Introduction to Python\"\n",
    "author: \"Sandro Ricardo De Souza\"\n",
    "date: \"Julho de 2024\"\n",
    "format: \n",
    "  html:\n",
    "    toc: true\n",
    "    toc-location: left\n",
    "    toc-depth: 2\n",
    "    number-sections: true\n",
    "    fig-cap-location: top\n",
    "  pdf:\n",
    "    toc: true\n",
    "    toc-location: left\n",
    "    toc-depth: 2\n",
    "    number-sections: true\n",
    "    fig-cap-location: top\n",
    "keep-ipynb: true\n",
    "execute-notebook: true\n",
    "---"
   ]
  },
  {
   "cell_type": "markdown",
   "metadata": {
    "id": "VHBFRf99_HPy"
   },
   "source": [
    "# Identificação de Perfis de Estudantes com Modelos Descritivos"
   ]
  },
  {
   "cell_type": "markdown",
   "metadata": {
    "id": "A8WBeU1J_FMm"
   },
   "source": [
    "## Parte 1: Conteúdo Teórico Explicativo"
   ]
  },
  {
   "cell_type": "markdown",
   "metadata": {
    "id": "M-SxI0I4_Ra5"
   },
   "source": [
    "Este notebook tem como objetivo demonstrar a identificação de perfis de estudantes com base em dados educacionais,\n",
    "utilizando modelos descritivos e técnicas de agrupamento (clustering).\n",
    "\n",
    "Pontos-chave:\n",
    "- Modelos descritivos ajudam a resumir, explorar e visualizar dados.\n",
    "- No contexto educacional, podemos usar esses modelos para identificar perfis de engajamento e desempenho.\n",
    "- O clustering é uma técnica não supervisionada que agrupa instâncias semelhantes entre si.\n",
    "\n",
    "Técnicas usadas neste notebook:\n",
    "- Estatística descritiva (média, desvio padrão)\n",
    "- Visualização de dados (gráficos)\n",
    "- K-means clustering\n"
   ]
  },
  {
   "cell_type": "markdown",
   "metadata": {
    "id": "Ptd7bHBg_WF1"
   },
   "source": [
    "## Parte 2: Exemplo Prático"
   ]
  },
  {
   "cell_type": "markdown",
   "metadata": {
    "id": "c86P4gLT_eJL"
   },
   "source": [
    "## Importação de Bibliotecas"
   ]
  },
  {
   "cell_type": "code",
   "execution_count": 17,
   "metadata": {
    "id": "ex3c7Iuy_hvw"
   },
   "outputs": [],
   "source": [
    "import pandas as pd\n",
    "import numpy as np\n",
    "import matplotlib.pyplot as plt\n",
    "import seaborn as sns\n",
    "from sklearn.cluster import KMeans\n",
    "from sklearn.preprocessing import StandardScaler\n",
    "from sklearn.decomposition import PCA\n",
    "from sklearn.metrics import silhouette_score"
   ]
  },
  {
   "cell_type": "markdown",
   "metadata": {
    "id": "eCSI8z1j_kLq"
   },
   "source": [
    "## Carregamento do Dataset Exemplo"
   ]
  },
  {
   "cell_type": "markdown",
   "metadata": {
    "id": "fBmdsQSs_pJZ"
   },
   "source": [
    "O dataset simulado contém dados de estudantes com as seguintes colunas:\n",
    "- 'id': identificador do estudante\n",
    "- 'acessos': número de acessos ao AVA\n",
    "- 'participacoes': número de interações em fóruns\n",
    "- 'entregas': percentual de tarefas entregues\n",
    "- 'nota_final': nota final no curso"
   ]
  },
  {
   "cell_type": "code",
   "execution_count": 18,
   "metadata": {
    "colab": {
     "base_uri": "https://localhost:8080/",
     "height": 206
    },
    "id": "YqSwNaoS_umW",
    "outputId": "f165f321-d243-47d1-dfe2-3b8b897b7570"
   },
   "outputs": [
    {
     "data": {
      "application/vnd.microsoft.datawrangler.viewer.v0+json": {
       "columns": [
        {
         "name": "index",
         "rawType": "int64",
         "type": "integer"
        },
        {
         "name": "id",
         "rawType": "int64",
         "type": "integer"
        },
        {
         "name": "acessos",
         "rawType": "int64",
         "type": "integer"
        },
        {
         "name": "participacoes",
         "rawType": "int64",
         "type": "integer"
        },
        {
         "name": "entregas",
         "rawType": "float64",
         "type": "float"
        },
        {
         "name": "nota_final",
         "rawType": "float64",
         "type": "float"
        }
       ],
       "conversionMethod": "pd.DataFrame",
       "ref": "9407c712-ec71-4ce6-ae49-b1ce1318c404",
       "rows": [
        [
         "0",
         "1",
         "25",
         "12",
         "0.9",
         "8.5"
        ],
        [
         "1",
         "2",
         "10",
         "4",
         "0.6",
         "6.0"
        ],
        [
         "2",
         "3",
         "5",
         "2",
         "0.4",
         "4.5"
        ],
        [
         "3",
         "4",
         "40",
         "18",
         "1.0",
         "9.5"
        ],
        [
         "4",
         "5",
         "35",
         "16",
         "0.95",
         "9.0"
        ]
       ],
       "shape": {
        "columns": 5,
        "rows": 5
       }
      },
      "text/html": [
       "<div>\n",
       "<style scoped>\n",
       "    .dataframe tbody tr th:only-of-type {\n",
       "        vertical-align: middle;\n",
       "    }\n",
       "\n",
       "    .dataframe tbody tr th {\n",
       "        vertical-align: top;\n",
       "    }\n",
       "\n",
       "    .dataframe thead th {\n",
       "        text-align: right;\n",
       "    }\n",
       "</style>\n",
       "<table border=\"1\" class=\"dataframe\">\n",
       "  <thead>\n",
       "    <tr style=\"text-align: right;\">\n",
       "      <th></th>\n",
       "      <th>id</th>\n",
       "      <th>acessos</th>\n",
       "      <th>participacoes</th>\n",
       "      <th>entregas</th>\n",
       "      <th>nota_final</th>\n",
       "    </tr>\n",
       "  </thead>\n",
       "  <tbody>\n",
       "    <tr>\n",
       "      <th>0</th>\n",
       "      <td>1</td>\n",
       "      <td>25</td>\n",
       "      <td>12</td>\n",
       "      <td>0.90</td>\n",
       "      <td>8.5</td>\n",
       "    </tr>\n",
       "    <tr>\n",
       "      <th>1</th>\n",
       "      <td>2</td>\n",
       "      <td>10</td>\n",
       "      <td>4</td>\n",
       "      <td>0.60</td>\n",
       "      <td>6.0</td>\n",
       "    </tr>\n",
       "    <tr>\n",
       "      <th>2</th>\n",
       "      <td>3</td>\n",
       "      <td>5</td>\n",
       "      <td>2</td>\n",
       "      <td>0.40</td>\n",
       "      <td>4.5</td>\n",
       "    </tr>\n",
       "    <tr>\n",
       "      <th>3</th>\n",
       "      <td>4</td>\n",
       "      <td>40</td>\n",
       "      <td>18</td>\n",
       "      <td>1.00</td>\n",
       "      <td>9.5</td>\n",
       "    </tr>\n",
       "    <tr>\n",
       "      <th>4</th>\n",
       "      <td>5</td>\n",
       "      <td>35</td>\n",
       "      <td>16</td>\n",
       "      <td>0.95</td>\n",
       "      <td>9.0</td>\n",
       "    </tr>\n",
       "  </tbody>\n",
       "</table>\n",
       "</div>"
      ],
      "text/plain": [
       "   id  acessos  participacoes  entregas  nota_final\n",
       "0   1       25             12      0.90         8.5\n",
       "1   2       10              4      0.60         6.0\n",
       "2   3        5              2      0.40         4.5\n",
       "3   4       40             18      1.00         9.5\n",
       "4   5       35             16      0.95         9.0"
      ]
     },
     "execution_count": 18,
     "metadata": {},
     "output_type": "execute_result"
    }
   ],
   "source": [
    "# Dataset simulado\n",
    "\n",
    "data = {\n",
    "    'id': range(1, 21),\n",
    "    'acessos': [25, 10, 5, 40, 35, 20, 15, 8, 50, 30, 45, 12, 18, 22, 28, 6, 4, 38, 44, 7],\n",
    "    'participacoes': [12, 4, 2, 18, 16, 8, 5, 2, 20, 14, 19, 3, 6, 10, 11, 1, 0, 17, 18, 2],\n",
    "    'entregas': [0.9, 0.6, 0.4, 1.0, 0.95, 0.8, 0.7, 0.5, 1.0, 0.85, 1.0, 0.55, 0.65, 0.75, 0.8, 0.3, 0.2, 0.9, 1.0, 0.4],\n",
    "    'nota_final': [8.5, 6.0, 4.5, 9.5, 9.0, 7.5, 6.5, 5.0, 10.0, 8.0, 9.5, 5.5, 6.0, 7.0, 7.5, 3.5, 2.0, 8.5, 9.5, 4.0]\n",
    "}\n",
    "df = pd.DataFrame(data)\n",
    "df.head()"
   ]
  },
  {
   "cell_type": "markdown",
   "metadata": {
    "id": "NIrcIibj_xUD"
   },
   "source": [
    "### Estatística Descritiva"
   ]
  },
  {
   "cell_type": "code",
   "execution_count": 19,
   "metadata": {
    "colab": {
     "base_uri": "https://localhost:8080/"
    },
    "id": "IsCSPErf_4Hj",
    "outputId": "b2c40367-5ebb-4dc6-e565-36bf1cf6cd56"
   },
   "outputs": [
    {
     "name": "stdout",
     "output_type": "stream",
     "text": [
      "\n",
      "Estatísticas Descritivas:\n"
     ]
    },
    {
     "data": {
      "application/vnd.microsoft.datawrangler.viewer.v0+json": {
       "columns": [
        {
         "name": "index",
         "rawType": "object",
         "type": "string"
        },
        {
         "name": "id",
         "rawType": "float64",
         "type": "float"
        },
        {
         "name": "acessos",
         "rawType": "float64",
         "type": "float"
        },
        {
         "name": "participacoes",
         "rawType": "float64",
         "type": "float"
        },
        {
         "name": "entregas",
         "rawType": "float64",
         "type": "float"
        },
        {
         "name": "nota_final",
         "rawType": "float64",
         "type": "float"
        }
       ],
       "conversionMethod": "pd.DataFrame",
       "ref": "197f5d68-447d-4006-9d2f-290ae25d7abb",
       "rows": [
        [
         "count",
         "20.0",
         "20.0",
         "20.0",
         "20.0",
         "20.0"
        ],
        [
         "mean",
         "10.5",
         "23.1",
         "9.4",
         "0.7125",
         "6.875"
        ],
        [
         "std",
         "5.916079783099616",
         "14.927544303982767",
         "6.92364370149585",
         "0.2522921239148652",
         "2.2761636700008148"
        ],
        [
         "min",
         "1.0",
         "4.0",
         "0.0",
         "0.2",
         "2.0"
        ],
        [
         "25%",
         "5.75",
         "9.5",
         "2.75",
         "0.5375000000000001",
         "5.375"
        ],
        [
         "50%",
         "10.5",
         "21.0",
         "9.0",
         "0.775",
         "7.25"
        ],
        [
         "75%",
         "15.25",
         "35.75",
         "16.25",
         "0.9125",
         "8.625"
        ],
        [
         "max",
         "20.0",
         "50.0",
         "20.0",
         "1.0",
         "10.0"
        ]
       ],
       "shape": {
        "columns": 5,
        "rows": 8
       }
      },
      "text/html": [
       "<div>\n",
       "<style scoped>\n",
       "    .dataframe tbody tr th:only-of-type {\n",
       "        vertical-align: middle;\n",
       "    }\n",
       "\n",
       "    .dataframe tbody tr th {\n",
       "        vertical-align: top;\n",
       "    }\n",
       "\n",
       "    .dataframe thead th {\n",
       "        text-align: right;\n",
       "    }\n",
       "</style>\n",
       "<table border=\"1\" class=\"dataframe\">\n",
       "  <thead>\n",
       "    <tr style=\"text-align: right;\">\n",
       "      <th></th>\n",
       "      <th>id</th>\n",
       "      <th>acessos</th>\n",
       "      <th>participacoes</th>\n",
       "      <th>entregas</th>\n",
       "      <th>nota_final</th>\n",
       "    </tr>\n",
       "  </thead>\n",
       "  <tbody>\n",
       "    <tr>\n",
       "      <th>count</th>\n",
       "      <td>20.00000</td>\n",
       "      <td>20.000000</td>\n",
       "      <td>20.000000</td>\n",
       "      <td>20.000000</td>\n",
       "      <td>20.000000</td>\n",
       "    </tr>\n",
       "    <tr>\n",
       "      <th>mean</th>\n",
       "      <td>10.50000</td>\n",
       "      <td>23.100000</td>\n",
       "      <td>9.400000</td>\n",
       "      <td>0.712500</td>\n",
       "      <td>6.875000</td>\n",
       "    </tr>\n",
       "    <tr>\n",
       "      <th>std</th>\n",
       "      <td>5.91608</td>\n",
       "      <td>14.927544</td>\n",
       "      <td>6.923644</td>\n",
       "      <td>0.252292</td>\n",
       "      <td>2.276164</td>\n",
       "    </tr>\n",
       "    <tr>\n",
       "      <th>min</th>\n",
       "      <td>1.00000</td>\n",
       "      <td>4.000000</td>\n",
       "      <td>0.000000</td>\n",
       "      <td>0.200000</td>\n",
       "      <td>2.000000</td>\n",
       "    </tr>\n",
       "    <tr>\n",
       "      <th>25%</th>\n",
       "      <td>5.75000</td>\n",
       "      <td>9.500000</td>\n",
       "      <td>2.750000</td>\n",
       "      <td>0.537500</td>\n",
       "      <td>5.375000</td>\n",
       "    </tr>\n",
       "    <tr>\n",
       "      <th>50%</th>\n",
       "      <td>10.50000</td>\n",
       "      <td>21.000000</td>\n",
       "      <td>9.000000</td>\n",
       "      <td>0.775000</td>\n",
       "      <td>7.250000</td>\n",
       "    </tr>\n",
       "    <tr>\n",
       "      <th>75%</th>\n",
       "      <td>15.25000</td>\n",
       "      <td>35.750000</td>\n",
       "      <td>16.250000</td>\n",
       "      <td>0.912500</td>\n",
       "      <td>8.625000</td>\n",
       "    </tr>\n",
       "    <tr>\n",
       "      <th>max</th>\n",
       "      <td>20.00000</td>\n",
       "      <td>50.000000</td>\n",
       "      <td>20.000000</td>\n",
       "      <td>1.000000</td>\n",
       "      <td>10.000000</td>\n",
       "    </tr>\n",
       "  </tbody>\n",
       "</table>\n",
       "</div>"
      ],
      "text/plain": [
       "             id    acessos  participacoes   entregas  nota_final\n",
       "count  20.00000  20.000000      20.000000  20.000000   20.000000\n",
       "mean   10.50000  23.100000       9.400000   0.712500    6.875000\n",
       "std     5.91608  14.927544       6.923644   0.252292    2.276164\n",
       "min     1.00000   4.000000       0.000000   0.200000    2.000000\n",
       "25%     5.75000   9.500000       2.750000   0.537500    5.375000\n",
       "50%    10.50000  21.000000       9.000000   0.775000    7.250000\n",
       "75%    15.25000  35.750000      16.250000   0.912500    8.625000\n",
       "max    20.00000  50.000000      20.000000   1.000000   10.000000"
      ]
     },
     "execution_count": 19,
     "metadata": {},
     "output_type": "execute_result"
    }
   ],
   "source": [
    "print(\"\\nEstatísticas Descritivas:\")\n",
    "df.describe()"
   ]
  },
  {
   "cell_type": "markdown",
   "metadata": {
    "id": "VZ5IZvqh_8W_"
   },
   "source": [
    "### Visualização Inicial dos Dados"
   ]
  },
  {
   "cell_type": "code",
   "execution_count": 20,
   "metadata": {
    "colab": {
     "base_uri": "https://localhost:8080/",
     "height": 1000
    },
    "id": "Xr1mQJEm_39L",
    "outputId": "89ecefff-90fc-49d9-a921-515c113d54ba"
   },
   "outputs": [
    {
     "data": {
      "image/png": "[encoded data removed]",
      "text/plain": [
       "<Figure size 1000x1000 with 20 Axes>"
      ]
     },
     "metadata": {},
     "output_type": "display_data"
    }
   ],
   "source": [
    "sns.pairplot(df.drop('id', axis=1))\n",
    "plt.suptitle('Visualização Inicial das Variáveis', y=1.02)\n",
    "plt.show()"
   ]
  },
  {
   "cell_type": "markdown",
   "metadata": {
    "id": "-a0fygunCLtx"
   },
   "source": [
    "### Normalização dos Dados"
   ]
  },
  {
   "cell_type": "code",
   "execution_count": 21,
   "metadata": {
    "id": "wmtqu6UlCBu4"
   },
   "outputs": [],
   "source": [
    "features = ['acessos', 'participacoes', 'entregas', 'nota_final']\n",
    "scaler = StandardScaler()\n",
    "df_scaled = scaler.fit_transform(df[features])"
   ]
  },
  {
   "cell_type": "markdown",
   "metadata": {
    "id": "EZvidylICP1B"
   },
   "source": [
    "### Determinação do Melhor Número de Clusters com Silhouette"
   ]
  },
  {
   "cell_type": "code",
   "execution_count": 22,
   "metadata": {
    "colab": {
     "base_uri": "https://localhost:8080/"
    },
    "id": "Ovzmc0OqCBdr",
    "outputId": "17981041-b763-4ebe-cfd4-563b5880a36d"
   },
   "outputs": [
    {
     "name": "stdout",
     "output_type": "stream",
     "text": [
      "Para n_clusters = 2, o coeficiente de silhouette é 0.5704\n",
      "Para n_clusters = 3, o coeficiente de silhouette é 0.5292\n",
      "Para n_clusters = 4, o coeficiente de silhouette é 0.4198\n",
      "Para n_clusters = 5, o coeficiente de silhouette é 0.3869\n",
      "Para n_clusters = 6, o coeficiente de silhouette é 0.3555\n",
      "Para n_clusters = 7, o coeficiente de silhouette é 0.3754\n",
      "Para n_clusters = 8, o coeficiente de silhouette é 0.2681\n",
      "Para n_clusters = 9, o coeficiente de silhouette é 0.2372\n",
      "\n",
      "Melhor número de clusters com base no silhouette: 2\n"
     ]
    },
    {
     "name": "stderr",
     "output_type": "stream",
     "text": [
      "c:\\Users\\srsouza\\AppData\\Local\\anaconda3\\Lib\\site-packages\\sklearn\\cluster\\_kmeans.py:1429: UserWarning: KMeans is known to have a memory leak on Windows with MKL, when there are less chunks than available threads. You can avoid it by setting the environment variable OMP_NUM_THREADS=1.\n",
      "  warnings.warn(\n",
      "c:\\Users\\srsouza\\AppData\\Local\\anaconda3\\Lib\\site-packages\\sklearn\\cluster\\_kmeans.py:1429: UserWarning: KMeans is known to have a memory leak on Windows with MKL, when there are less chunks than available threads. You can avoid it by setting the environment variable OMP_NUM_THREADS=1.\n",
      "  warnings.warn(\n",
      "c:\\Users\\srsouza\\AppData\\Local\\anaconda3\\Lib\\site-packages\\sklearn\\cluster\\_kmeans.py:1429: UserWarning: KMeans is known to have a memory leak on Windows with MKL, when there are less chunks than available threads. You can avoid it by setting the environment variable OMP_NUM_THREADS=1.\n",
      "  warnings.warn(\n",
      "c:\\Users\\srsouza\\AppData\\Local\\anaconda3\\Lib\\site-packages\\sklearn\\cluster\\_kmeans.py:1429: UserWarning: KMeans is known to have a memory leak on Windows with MKL, when there are less chunks than available threads. You can avoid it by setting the environment variable OMP_NUM_THREADS=1.\n",
      "  warnings.warn(\n",
      "c:\\Users\\srsouza\\AppData\\Local\\anaconda3\\Lib\\site-packages\\sklearn\\cluster\\_kmeans.py:1429: UserWarning: KMeans is known to have a memory leak on Windows with MKL, when there are less chunks than available threads. You can avoid it by setting the environment variable OMP_NUM_THREADS=1.\n",
      "  warnings.warn(\n",
      "c:\\Users\\srsouza\\AppData\\Local\\anaconda3\\Lib\\site-packages\\sklearn\\cluster\\_kmeans.py:1429: UserWarning: KMeans is known to have a memory leak on Windows with MKL, when there are less chunks than available threads. You can avoid it by setting the environment variable OMP_NUM_THREADS=1.\n",
      "  warnings.warn(\n",
      "c:\\Users\\srsouza\\AppData\\Local\\anaconda3\\Lib\\site-packages\\sklearn\\cluster\\_kmeans.py:1429: UserWarning: KMeans is known to have a memory leak on Windows with MKL, when there are less chunks than available threads. You can avoid it by setting the environment variable OMP_NUM_THREADS=1.\n",
      "  warnings.warn(\n",
      "c:\\Users\\srsouza\\AppData\\Local\\anaconda3\\Lib\\site-packages\\sklearn\\cluster\\_kmeans.py:1429: UserWarning: KMeans is known to have a memory leak on Windows with MKL, when there are less chunks than available threads. You can avoid it by setting the environment variable OMP_NUM_THREADS=1.\n",
      "  warnings.warn(\n"
     ]
    }
   ],
   "source": [
    "range_n_clusters = range(2, 10)\n",
    "best_n = 2\n",
    "best_score = -1\n",
    "\n",
    "for n_clusters in range_n_clusters:\n",
    "    kmeans = KMeans(n_clusters=n_clusters, random_state=42)\n",
    "    cluster_labels = kmeans.fit_predict(df_scaled)\n",
    "    silhouette_avg = silhouette_score(df_scaled, cluster_labels)\n",
    "    print(f\"Para n_clusters = {n_clusters}, o coeficiente de silhouette é {silhouette_avg:.4f}\")\n",
    "    if silhouette_avg > best_score:\n",
    "        best_n = n_clusters\n",
    "        best_score = silhouette_avg\n",
    "\n",
    "print(f\"\\nMelhor número de clusters com base no silhouette: {best_n}\")"
   ]
  },
  {
   "cell_type": "markdown",
   "metadata": {
    "id": "C5rgl2aqCYuk"
   },
   "source": [
    "### Aplicando KMeans com o melhor número de clusters"
   ]
  },
  {
   "cell_type": "code",
   "execution_count": 23,
   "metadata": {
    "id": "LheCcvDUCBUd"
   },
   "outputs": [
    {
     "name": "stderr",
     "output_type": "stream",
     "text": [
      "c:\\Users\\srsouza\\AppData\\Local\\anaconda3\\Lib\\site-packages\\sklearn\\cluster\\_kmeans.py:1429: UserWarning: KMeans is known to have a memory leak on Windows with MKL, when there are less chunks than available threads. You can avoid it by setting the environment variable OMP_NUM_THREADS=1.\n",
      "  warnings.warn(\n"
     ]
    }
   ],
   "source": [
    "kmeans = KMeans(n_clusters=best_n, random_state=42)\n",
    "df['cluster'] = kmeans.fit_predict(df_scaled)"
   ]
  },
  {
   "cell_type": "code",
   "execution_count": 24,
   "metadata": {
    "colab": {
     "base_uri": "https://localhost:8080/",
     "height": 676
    },
    "id": "bITC58ijNQr9",
    "outputId": "c1ebe759-6e26-4a54-ae3c-bdd7ce75c746"
   },
   "outputs": [
    {
     "data": {
      "application/vnd.microsoft.datawrangler.viewer.v0+json": {
       "columns": [
        {
         "name": "index",
         "rawType": "int64",
         "type": "integer"
        },
        {
         "name": "id",
         "rawType": "int64",
         "type": "integer"
        },
        {
         "name": "acessos",
         "rawType": "int64",
         "type": "integer"
        },
        {
         "name": "participacoes",
         "rawType": "int64",
         "type": "integer"
        },
        {
         "name": "entregas",
         "rawType": "float64",
         "type": "float"
        },
        {
         "name": "nota_final",
         "rawType": "float64",
         "type": "float"
        },
        {
         "name": "cluster",
         "rawType": "int32",
         "type": "integer"
        }
       ],
       "conversionMethod": "pd.DataFrame",
       "ref": "dd8905af-b74f-456b-af54-390ac2b788af",
       "rows": [
        [
         "0",
         "1",
         "25",
         "12",
         "0.9",
         "8.5",
         "1"
        ],
        [
         "1",
         "2",
         "10",
         "4",
         "0.6",
         "6.0",
         "0"
        ],
        [
         "2",
         "3",
         "5",
         "2",
         "0.4",
         "4.5",
         "0"
        ],
        [
         "3",
         "4",
         "40",
         "18",
         "1.0",
         "9.5",
         "1"
        ],
        [
         "4",
         "5",
         "35",
         "16",
         "0.95",
         "9.0",
         "1"
        ],
        [
         "5",
         "6",
         "20",
         "8",
         "0.8",
         "7.5",
         "0"
        ],
        [
         "6",
         "7",
         "15",
         "5",
         "0.7",
         "6.5",
         "0"
        ],
        [
         "7",
         "8",
         "8",
         "2",
         "0.5",
         "5.0",
         "0"
        ],
        [
         "8",
         "9",
         "50",
         "20",
         "1.0",
         "10.0",
         "1"
        ],
        [
         "9",
         "10",
         "30",
         "14",
         "0.85",
         "8.0",
         "1"
        ],
        [
         "10",
         "11",
         "45",
         "19",
         "1.0",
         "9.5",
         "1"
        ],
        [
         "11",
         "12",
         "12",
         "3",
         "0.55",
         "5.5",
         "0"
        ],
        [
         "12",
         "13",
         "18",
         "6",
         "0.65",
         "6.0",
         "0"
        ],
        [
         "13",
         "14",
         "22",
         "10",
         "0.75",
         "7.0",
         "0"
        ],
        [
         "14",
         "15",
         "28",
         "11",
         "0.8",
         "7.5",
         "1"
        ],
        [
         "15",
         "16",
         "6",
         "1",
         "0.3",
         "3.5",
         "0"
        ],
        [
         "16",
         "17",
         "4",
         "0",
         "0.2",
         "2.0",
         "0"
        ],
        [
         "17",
         "18",
         "38",
         "17",
         "0.9",
         "8.5",
         "1"
        ],
        [
         "18",
         "19",
         "44",
         "18",
         "1.0",
         "9.5",
         "1"
        ],
        [
         "19",
         "20",
         "7",
         "2",
         "0.4",
         "4.0",
         "0"
        ]
       ],
       "shape": {
        "columns": 6,
        "rows": 20
       }
      },
      "text/html": [
       "<div>\n",
       "<style scoped>\n",
       "    .dataframe tbody tr th:only-of-type {\n",
       "        vertical-align: middle;\n",
       "    }\n",
       "\n",
       "    .dataframe tbody tr th {\n",
       "        vertical-align: top;\n",
       "    }\n",
       "\n",
       "    .dataframe thead th {\n",
       "        text-align: right;\n",
       "    }\n",
       "</style>\n",
       "<table border=\"1\" class=\"dataframe\">\n",
       "  <thead>\n",
       "    <tr style=\"text-align: right;\">\n",
       "      <th></th>\n",
       "      <th>id</th>\n",
       "      <th>acessos</th>\n",
       "      <th>participacoes</th>\n",
       "      <th>entregas</th>\n",
       "      <th>nota_final</th>\n",
       "      <th>cluster</th>\n",
       "    </tr>\n",
       "  </thead>\n",
       "  <tbody>\n",
       "    <tr>\n",
       "      <th>0</th>\n",
       "      <td>1</td>\n",
       "      <td>25</td>\n",
       "      <td>12</td>\n",
       "      <td>0.90</td>\n",
       "      <td>8.5</td>\n",
       "      <td>1</td>\n",
       "    </tr>\n",
       "    <tr>\n",
       "      <th>1</th>\n",
       "      <td>2</td>\n",
       "      <td>10</td>\n",
       "      <td>4</td>\n",
       "      <td>0.60</td>\n",
       "      <td>6.0</td>\n",
       "      <td>0</td>\n",
       "    </tr>\n",
       "    <tr>\n",
       "      <th>2</th>\n",
       "      <td>3</td>\n",
       "      <td>5</td>\n",
       "      <td>2</td>\n",
       "      <td>0.40</td>\n",
       "      <td>4.5</td>\n",
       "      <td>0</td>\n",
       "    </tr>\n",
       "    <tr>\n",
       "      <th>3</th>\n",
       "      <td>4</td>\n",
       "      <td>40</td>\n",
       "      <td>18</td>\n",
       "      <td>1.00</td>\n",
       "      <td>9.5</td>\n",
       "      <td>1</td>\n",
       "    </tr>\n",
       "    <tr>\n",
       "      <th>4</th>\n",
       "      <td>5</td>\n",
       "      <td>35</td>\n",
       "      <td>16</td>\n",
       "      <td>0.95</td>\n",
       "      <td>9.0</td>\n",
       "      <td>1</td>\n",
       "    </tr>\n",
       "    <tr>\n",
       "      <th>5</th>\n",
       "      <td>6</td>\n",
       "      <td>20</td>\n",
       "      <td>8</td>\n",
       "      <td>0.80</td>\n",
       "      <td>7.5</td>\n",
       "      <td>0</td>\n",
       "    </tr>\n",
       "    <tr>\n",
       "      <th>6</th>\n",
       "      <td>7</td>\n",
       "      <td>15</td>\n",
       "      <td>5</td>\n",
       "      <td>0.70</td>\n",
       "      <td>6.5</td>\n",
       "      <td>0</td>\n",
       "    </tr>\n",
       "    <tr>\n",
       "      <th>7</th>\n",
       "      <td>8</td>\n",
       "      <td>8</td>\n",
       "      <td>2</td>\n",
       "      <td>0.50</td>\n",
       "      <td>5.0</td>\n",
       "      <td>0</td>\n",
       "    </tr>\n",
       "    <tr>\n",
       "      <th>8</th>\n",
       "      <td>9</td>\n",
       "      <td>50</td>\n",
       "      <td>20</td>\n",
       "      <td>1.00</td>\n",
       "      <td>10.0</td>\n",
       "      <td>1</td>\n",
       "    </tr>\n",
       "    <tr>\n",
       "      <th>9</th>\n",
       "      <td>10</td>\n",
       "      <td>30</td>\n",
       "      <td>14</td>\n",
       "      <td>0.85</td>\n",
       "      <td>8.0</td>\n",
       "      <td>1</td>\n",
       "    </tr>\n",
       "    <tr>\n",
       "      <th>10</th>\n",
       "      <td>11</td>\n",
       "      <td>45</td>\n",
       "      <td>19</td>\n",
       "      <td>1.00</td>\n",
       "      <td>9.5</td>\n",
       "      <td>1</td>\n",
       "    </tr>\n",
       "    <tr>\n",
       "      <th>11</th>\n",
       "      <td>12</td>\n",
       "      <td>12</td>\n",
       "      <td>3</td>\n",
       "      <td>0.55</td>\n",
       "      <td>5.5</td>\n",
       "      <td>0</td>\n",
       "    </tr>\n",
       "    <tr>\n",
       "      <th>12</th>\n",
       "      <td>13</td>\n",
       "      <td>18</td>\n",
       "      <td>6</td>\n",
       "      <td>0.65</td>\n",
       "      <td>6.0</td>\n",
       "      <td>0</td>\n",
       "    </tr>\n",
       "    <tr>\n",
       "      <th>13</th>\n",
       "      <td>14</td>\n",
       "      <td>22</td>\n",
       "      <td>10</td>\n",
       "      <td>0.75</td>\n",
       "      <td>7.0</td>\n",
       "      <td>0</td>\n",
       "    </tr>\n",
       "    <tr>\n",
       "      <th>14</th>\n",
       "      <td>15</td>\n",
       "      <td>28</td>\n",
       "      <td>11</td>\n",
       "      <td>0.80</td>\n",
       "      <td>7.5</td>\n",
       "      <td>1</td>\n",
       "    </tr>\n",
       "    <tr>\n",
       "      <th>15</th>\n",
       "      <td>16</td>\n",
       "      <td>6</td>\n",
       "      <td>1</td>\n",
       "      <td>0.30</td>\n",
       "      <td>3.5</td>\n",
       "      <td>0</td>\n",
       "    </tr>\n",
       "    <tr>\n",
       "      <th>16</th>\n",
       "      <td>17</td>\n",
       "      <td>4</td>\n",
       "      <td>0</td>\n",
       "      <td>0.20</td>\n",
       "      <td>2.0</td>\n",
       "      <td>0</td>\n",
       "    </tr>\n",
       "    <tr>\n",
       "      <th>17</th>\n",
       "      <td>18</td>\n",
       "      <td>38</td>\n",
       "      <td>17</td>\n",
       "      <td>0.90</td>\n",
       "      <td>8.5</td>\n",
       "      <td>1</td>\n",
       "    </tr>\n",
       "    <tr>\n",
       "      <th>18</th>\n",
       "      <td>19</td>\n",
       "      <td>44</td>\n",
       "      <td>18</td>\n",
       "      <td>1.00</td>\n",
       "      <td>9.5</td>\n",
       "      <td>1</td>\n",
       "    </tr>\n",
       "    <tr>\n",
       "      <th>19</th>\n",
       "      <td>20</td>\n",
       "      <td>7</td>\n",
       "      <td>2</td>\n",
       "      <td>0.40</td>\n",
       "      <td>4.0</td>\n",
       "      <td>0</td>\n",
       "    </tr>\n",
       "  </tbody>\n",
       "</table>\n",
       "</div>"
      ],
      "text/plain": [
       "    id  acessos  participacoes  entregas  nota_final  cluster\n",
       "0    1       25             12      0.90         8.5        1\n",
       "1    2       10              4      0.60         6.0        0\n",
       "2    3        5              2      0.40         4.5        0\n",
       "3    4       40             18      1.00         9.5        1\n",
       "4    5       35             16      0.95         9.0        1\n",
       "5    6       20              8      0.80         7.5        0\n",
       "6    7       15              5      0.70         6.5        0\n",
       "7    8        8              2      0.50         5.0        0\n",
       "8    9       50             20      1.00        10.0        1\n",
       "9   10       30             14      0.85         8.0        1\n",
       "10  11       45             19      1.00         9.5        1\n",
       "11  12       12              3      0.55         5.5        0\n",
       "12  13       18              6      0.65         6.0        0\n",
       "13  14       22             10      0.75         7.0        0\n",
       "14  15       28             11      0.80         7.5        1\n",
       "15  16        6              1      0.30         3.5        0\n",
       "16  17        4              0      0.20         2.0        0\n",
       "17  18       38             17      0.90         8.5        1\n",
       "18  19       44             18      1.00         9.5        1\n",
       "19  20        7              2      0.40         4.0        0"
      ]
     },
     "execution_count": 24,
     "metadata": {},
     "output_type": "execute_result"
    }
   ],
   "source": [
    "df"
   ]
  },
  {
   "cell_type": "markdown",
   "metadata": {
    "id": "gZi7QNz5NZkK"
   },
   "source": [
    "### Analise os grupos 0 e 1 e informe as característica de cada grupo."
   ]
  },
  {
   "cell_type": "code",
   "execution_count": 25,
   "metadata": {},
   "outputs": [
    {
     "data": {
      "application/vnd.microsoft.datawrangler.viewer.v0+json": {
       "columns": [
        {
         "name": "index",
         "rawType": "int64",
         "type": "integer"
        },
        {
         "name": "id",
         "rawType": "int64",
         "type": "integer"
        },
        {
         "name": "acessos",
         "rawType": "int64",
         "type": "integer"
        },
        {
         "name": "participacoes",
         "rawType": "int64",
         "type": "integer"
        },
        {
         "name": "entregas",
         "rawType": "float64",
         "type": "float"
        },
        {
         "name": "nota_final",
         "rawType": "float64",
         "type": "float"
        },
        {
         "name": "cluster",
         "rawType": "int32",
         "type": "integer"
        }
       ],
       "conversionMethod": "pd.DataFrame",
       "ref": "72b74473-2f55-41ca-afac-95a5dfe98588",
       "rows": [
        [
         "0",
         "1",
         "25",
         "12",
         "0.9",
         "8.5",
         "1"
        ],
        [
         "1",
         "2",
         "10",
         "4",
         "0.6",
         "6.0",
         "0"
        ],
        [
         "2",
         "3",
         "5",
         "2",
         "0.4",
         "4.5",
         "0"
        ],
        [
         "3",
         "4",
         "40",
         "18",
         "1.0",
         "9.5",
         "1"
        ],
        [
         "4",
         "5",
         "35",
         "16",
         "0.95",
         "9.0",
         "1"
        ],
        [
         "5",
         "6",
         "20",
         "8",
         "0.8",
         "7.5",
         "0"
        ],
        [
         "6",
         "7",
         "15",
         "5",
         "0.7",
         "6.5",
         "0"
        ],
        [
         "7",
         "8",
         "8",
         "2",
         "0.5",
         "5.0",
         "0"
        ],
        [
         "8",
         "9",
         "50",
         "20",
         "1.0",
         "10.0",
         "1"
        ],
        [
         "9",
         "10",
         "30",
         "14",
         "0.85",
         "8.0",
         "1"
        ],
        [
         "10",
         "11",
         "45",
         "19",
         "1.0",
         "9.5",
         "1"
        ],
        [
         "11",
         "12",
         "12",
         "3",
         "0.55",
         "5.5",
         "0"
        ],
        [
         "12",
         "13",
         "18",
         "6",
         "0.65",
         "6.0",
         "0"
        ],
        [
         "13",
         "14",
         "22",
         "10",
         "0.75",
         "7.0",
         "0"
        ],
        [
         "14",
         "15",
         "28",
         "11",
         "0.8",
         "7.5",
         "1"
        ],
        [
         "15",
         "16",
         "6",
         "1",
         "0.3",
         "3.5",
         "0"
        ],
        [
         "16",
         "17",
         "4",
         "0",
         "0.2",
         "2.0",
         "0"
        ],
        [
         "17",
         "18",
         "38",
         "17",
         "0.9",
         "8.5",
         "1"
        ],
        [
         "18",
         "19",
         "44",
         "18",
         "1.0",
         "9.5",
         "1"
        ],
        [
         "19",
         "20",
         "7",
         "2",
         "0.4",
         "4.0",
         "0"
        ]
       ],
       "shape": {
        "columns": 6,
        "rows": 20
       }
      },
      "text/html": [
       "<div>\n",
       "<style scoped>\n",
       "    .dataframe tbody tr th:only-of-type {\n",
       "        vertical-align: middle;\n",
       "    }\n",
       "\n",
       "    .dataframe tbody tr th {\n",
       "        vertical-align: top;\n",
       "    }\n",
       "\n",
       "    .dataframe thead th {\n",
       "        text-align: right;\n",
       "    }\n",
       "</style>\n",
       "<table border=\"1\" class=\"dataframe\">\n",
       "  <thead>\n",
       "    <tr style=\"text-align: right;\">\n",
       "      <th></th>\n",
       "      <th>id</th>\n",
       "      <th>acessos</th>\n",
       "      <th>participacoes</th>\n",
       "      <th>entregas</th>\n",
       "      <th>nota_final</th>\n",
       "      <th>cluster</th>\n",
       "    </tr>\n",
       "  </thead>\n",
       "  <tbody>\n",
       "    <tr>\n",
       "      <th>0</th>\n",
       "      <td>1</td>\n",
       "      <td>25</td>\n",
       "      <td>12</td>\n",
       "      <td>0.90</td>\n",
       "      <td>8.5</td>\n",
       "      <td>1</td>\n",
       "    </tr>\n",
       "    <tr>\n",
       "      <th>1</th>\n",
       "      <td>2</td>\n",
       "      <td>10</td>\n",
       "      <td>4</td>\n",
       "      <td>0.60</td>\n",
       "      <td>6.0</td>\n",
       "      <td>0</td>\n",
       "    </tr>\n",
       "    <tr>\n",
       "      <th>2</th>\n",
       "      <td>3</td>\n",
       "      <td>5</td>\n",
       "      <td>2</td>\n",
       "      <td>0.40</td>\n",
       "      <td>4.5</td>\n",
       "      <td>0</td>\n",
       "    </tr>\n",
       "    <tr>\n",
       "      <th>3</th>\n",
       "      <td>4</td>\n",
       "      <td>40</td>\n",
       "      <td>18</td>\n",
       "      <td>1.00</td>\n",
       "      <td>9.5</td>\n",
       "      <td>1</td>\n",
       "    </tr>\n",
       "    <tr>\n",
       "      <th>4</th>\n",
       "      <td>5</td>\n",
       "      <td>35</td>\n",
       "      <td>16</td>\n",
       "      <td>0.95</td>\n",
       "      <td>9.0</td>\n",
       "      <td>1</td>\n",
       "    </tr>\n",
       "    <tr>\n",
       "      <th>5</th>\n",
       "      <td>6</td>\n",
       "      <td>20</td>\n",
       "      <td>8</td>\n",
       "      <td>0.80</td>\n",
       "      <td>7.5</td>\n",
       "      <td>0</td>\n",
       "    </tr>\n",
       "    <tr>\n",
       "      <th>6</th>\n",
       "      <td>7</td>\n",
       "      <td>15</td>\n",
       "      <td>5</td>\n",
       "      <td>0.70</td>\n",
       "      <td>6.5</td>\n",
       "      <td>0</td>\n",
       "    </tr>\n",
       "    <tr>\n",
       "      <th>7</th>\n",
       "      <td>8</td>\n",
       "      <td>8</td>\n",
       "      <td>2</td>\n",
       "      <td>0.50</td>\n",
       "      <td>5.0</td>\n",
       "      <td>0</td>\n",
       "    </tr>\n",
       "    <tr>\n",
       "      <th>8</th>\n",
       "      <td>9</td>\n",
       "      <td>50</td>\n",
       "      <td>20</td>\n",
       "      <td>1.00</td>\n",
       "      <td>10.0</td>\n",
       "      <td>1</td>\n",
       "    </tr>\n",
       "    <tr>\n",
       "      <th>9</th>\n",
       "      <td>10</td>\n",
       "      <td>30</td>\n",
       "      <td>14</td>\n",
       "      <td>0.85</td>\n",
       "      <td>8.0</td>\n",
       "      <td>1</td>\n",
       "    </tr>\n",
       "    <tr>\n",
       "      <th>10</th>\n",
       "      <td>11</td>\n",
       "      <td>45</td>\n",
       "      <td>19</td>\n",
       "      <td>1.00</td>\n",
       "      <td>9.5</td>\n",
       "      <td>1</td>\n",
       "    </tr>\n",
       "    <tr>\n",
       "      <th>11</th>\n",
       "      <td>12</td>\n",
       "      <td>12</td>\n",
       "      <td>3</td>\n",
       "      <td>0.55</td>\n",
       "      <td>5.5</td>\n",
       "      <td>0</td>\n",
       "    </tr>\n",
       "    <tr>\n",
       "      <th>12</th>\n",
       "      <td>13</td>\n",
       "      <td>18</td>\n",
       "      <td>6</td>\n",
       "      <td>0.65</td>\n",
       "      <td>6.0</td>\n",
       "      <td>0</td>\n",
       "    </tr>\n",
       "    <tr>\n",
       "      <th>13</th>\n",
       "      <td>14</td>\n",
       "      <td>22</td>\n",
       "      <td>10</td>\n",
       "      <td>0.75</td>\n",
       "      <td>7.0</td>\n",
       "      <td>0</td>\n",
       "    </tr>\n",
       "    <tr>\n",
       "      <th>14</th>\n",
       "      <td>15</td>\n",
       "      <td>28</td>\n",
       "      <td>11</td>\n",
       "      <td>0.80</td>\n",
       "      <td>7.5</td>\n",
       "      <td>1</td>\n",
       "    </tr>\n",
       "    <tr>\n",
       "      <th>15</th>\n",
       "      <td>16</td>\n",
       "      <td>6</td>\n",
       "      <td>1</td>\n",
       "      <td>0.30</td>\n",
       "      <td>3.5</td>\n",
       "      <td>0</td>\n",
       "    </tr>\n",
       "    <tr>\n",
       "      <th>16</th>\n",
       "      <td>17</td>\n",
       "      <td>4</td>\n",
       "      <td>0</td>\n",
       "      <td>0.20</td>\n",
       "      <td>2.0</td>\n",
       "      <td>0</td>\n",
       "    </tr>\n",
       "    <tr>\n",
       "      <th>17</th>\n",
       "      <td>18</td>\n",
       "      <td>38</td>\n",
       "      <td>17</td>\n",
       "      <td>0.90</td>\n",
       "      <td>8.5</td>\n",
       "      <td>1</td>\n",
       "    </tr>\n",
       "    <tr>\n",
       "      <th>18</th>\n",
       "      <td>19</td>\n",
       "      <td>44</td>\n",
       "      <td>18</td>\n",
       "      <td>1.00</td>\n",
       "      <td>9.5</td>\n",
       "      <td>1</td>\n",
       "    </tr>\n",
       "    <tr>\n",
       "      <th>19</th>\n",
       "      <td>20</td>\n",
       "      <td>7</td>\n",
       "      <td>2</td>\n",
       "      <td>0.40</td>\n",
       "      <td>4.0</td>\n",
       "      <td>0</td>\n",
       "    </tr>\n",
       "  </tbody>\n",
       "</table>\n",
       "</div>"
      ],
      "text/plain": [
       "    id  acessos  participacoes  entregas  nota_final  cluster\n",
       "0    1       25             12      0.90         8.5        1\n",
       "1    2       10              4      0.60         6.0        0\n",
       "2    3        5              2      0.40         4.5        0\n",
       "3    4       40             18      1.00         9.5        1\n",
       "4    5       35             16      0.95         9.0        1\n",
       "5    6       20              8      0.80         7.5        0\n",
       "6    7       15              5      0.70         6.5        0\n",
       "7    8        8              2      0.50         5.0        0\n",
       "8    9       50             20      1.00        10.0        1\n",
       "9   10       30             14      0.85         8.0        1\n",
       "10  11       45             19      1.00         9.5        1\n",
       "11  12       12              3      0.55         5.5        0\n",
       "12  13       18              6      0.65         6.0        0\n",
       "13  14       22             10      0.75         7.0        0\n",
       "14  15       28             11      0.80         7.5        1\n",
       "15  16        6              1      0.30         3.5        0\n",
       "16  17        4              0      0.20         2.0        0\n",
       "17  18       38             17      0.90         8.5        1\n",
       "18  19       44             18      1.00         9.5        1\n",
       "19  20        7              2      0.40         4.0        0"
      ]
     },
     "execution_count": 25,
     "metadata": {},
     "output_type": "execute_result"
    }
   ],
   "source": [
    "df"
   ]
  },
  {
   "cell_type": "code",
   "execution_count": 26,
   "metadata": {},
   "outputs": [],
   "source": [
    "summary = {}\n",
    "\n",
    "Labels = ['acessos', 'participacoes', 'entregas', 'nota_final']\n",
    "\n",
    "for label in Labels:\n",
    "    for index in range(2):\n",
    "        summary[index] = df[df[label] == index].describe().T  # .describe method provides general statistics about the data"
   ]
  },
  {
   "cell_type": "code",
   "execution_count": 27,
   "metadata": {},
   "outputs": [
    {
     "data": {
      "application/vnd.microsoft.datawrangler.viewer.v0+json": {
       "columns": [
        {
         "name": "index",
         "rawType": "object",
         "type": "string"
        },
        {
         "name": "count",
         "rawType": "float64",
         "type": "float"
        },
        {
         "name": "mean",
         "rawType": "float64",
         "type": "float"
        },
        {
         "name": "std",
         "rawType": "float64",
         "type": "float"
        },
        {
         "name": "min",
         "rawType": "float64",
         "type": "float"
        },
        {
         "name": "25%",
         "rawType": "float64",
         "type": "float"
        },
        {
         "name": "50%",
         "rawType": "float64",
         "type": "float"
        },
        {
         "name": "75%",
         "rawType": "float64",
         "type": "float"
        },
        {
         "name": "max",
         "rawType": "float64",
         "type": "float"
        }
       ],
       "conversionMethod": "pd.DataFrame",
       "ref": "be7b4a37-b4a5-4a1e-b8d9-0ed15608fcc5",
       "rows": [
        [
         "id",
         "0.0",
         null,
         null,
         null,
         null,
         null,
         null,
         null
        ],
        [
         "acessos",
         "0.0",
         null,
         null,
         null,
         null,
         null,
         null,
         null
        ],
        [
         "participacoes",
         "0.0",
         null,
         null,
         null,
         null,
         null,
         null,
         null
        ],
        [
         "entregas",
         "0.0",
         null,
         null,
         null,
         null,
         null,
         null,
         null
        ],
        [
         "nota_final",
         "0.0",
         null,
         null,
         null,
         null,
         null,
         null,
         null
        ],
        [
         "cluster",
         "0.0",
         null,
         null,
         null,
         null,
         null,
         null,
         null
        ]
       ],
       "shape": {
        "columns": 8,
        "rows": 6
       }
      },
      "text/html": [
       "<div>\n",
       "<style scoped>\n",
       "    .dataframe tbody tr th:only-of-type {\n",
       "        vertical-align: middle;\n",
       "    }\n",
       "\n",
       "    .dataframe tbody tr th {\n",
       "        vertical-align: top;\n",
       "    }\n",
       "\n",
       "    .dataframe thead th {\n",
       "        text-align: right;\n",
       "    }\n",
       "</style>\n",
       "<table border=\"1\" class=\"dataframe\">\n",
       "  <thead>\n",
       "    <tr style=\"text-align: right;\">\n",
       "      <th></th>\n",
       "      <th>count</th>\n",
       "      <th>mean</th>\n",
       "      <th>std</th>\n",
       "      <th>min</th>\n",
       "      <th>25%</th>\n",
       "      <th>50%</th>\n",
       "      <th>75%</th>\n",
       "      <th>max</th>\n",
       "    </tr>\n",
       "  </thead>\n",
       "  <tbody>\n",
       "    <tr>\n",
       "      <th>id</th>\n",
       "      <td>0.0</td>\n",
       "      <td>NaN</td>\n",
       "      <td>NaN</td>\n",
       "      <td>NaN</td>\n",
       "      <td>NaN</td>\n",
       "      <td>NaN</td>\n",
       "      <td>NaN</td>\n",
       "      <td>NaN</td>\n",
       "    </tr>\n",
       "    <tr>\n",
       "      <th>acessos</th>\n",
       "      <td>0.0</td>\n",
       "      <td>NaN</td>\n",
       "      <td>NaN</td>\n",
       "      <td>NaN</td>\n",
       "      <td>NaN</td>\n",
       "      <td>NaN</td>\n",
       "      <td>NaN</td>\n",
       "      <td>NaN</td>\n",
       "    </tr>\n",
       "    <tr>\n",
       "      <th>participacoes</th>\n",
       "      <td>0.0</td>\n",
       "      <td>NaN</td>\n",
       "      <td>NaN</td>\n",
       "      <td>NaN</td>\n",
       "      <td>NaN</td>\n",
       "      <td>NaN</td>\n",
       "      <td>NaN</td>\n",
       "      <td>NaN</td>\n",
       "    </tr>\n",
       "    <tr>\n",
       "      <th>entregas</th>\n",
       "      <td>0.0</td>\n",
       "      <td>NaN</td>\n",
       "      <td>NaN</td>\n",
       "      <td>NaN</td>\n",
       "      <td>NaN</td>\n",
       "      <td>NaN</td>\n",
       "      <td>NaN</td>\n",
       "      <td>NaN</td>\n",
       "    </tr>\n",
       "    <tr>\n",
       "      <th>nota_final</th>\n",
       "      <td>0.0</td>\n",
       "      <td>NaN</td>\n",
       "      <td>NaN</td>\n",
       "      <td>NaN</td>\n",
       "      <td>NaN</td>\n",
       "      <td>NaN</td>\n",
       "      <td>NaN</td>\n",
       "      <td>NaN</td>\n",
       "    </tr>\n",
       "    <tr>\n",
       "      <th>cluster</th>\n",
       "      <td>0.0</td>\n",
       "      <td>NaN</td>\n",
       "      <td>NaN</td>\n",
       "      <td>NaN</td>\n",
       "      <td>NaN</td>\n",
       "      <td>NaN</td>\n",
       "      <td>NaN</td>\n",
       "      <td>NaN</td>\n",
       "    </tr>\n",
       "  </tbody>\n",
       "</table>\n",
       "</div>"
      ],
      "text/plain": [
       "               count  mean  std  min  25%  50%  75%  max\n",
       "id               0.0   NaN  NaN  NaN  NaN  NaN  NaN  NaN\n",
       "acessos          0.0   NaN  NaN  NaN  NaN  NaN  NaN  NaN\n",
       "participacoes    0.0   NaN  NaN  NaN  NaN  NaN  NaN  NaN\n",
       "entregas         0.0   NaN  NaN  NaN  NaN  NaN  NaN  NaN\n",
       "nota_final       0.0   NaN  NaN  NaN  NaN  NaN  NaN  NaN\n",
       "cluster          0.0   NaN  NaN  NaN  NaN  NaN  NaN  NaN"
      ]
     },
     "execution_count": 27,
     "metadata": {},
     "output_type": "execute_result"
    }
   ],
   "source": [
    "summary[0]"
   ]
  },
  {
   "cell_type": "code",
   "execution_count": 28,
   "metadata": {
    "id": "eU26EdwHNiuJ"
   },
   "outputs": [
    {
     "data": {
      "image/png": "[encoded data removed]",
      "text/plain": [
       "<Figure size 1000x1000 with 6 Axes>"
      ]
     },
     "metadata": {},
     "output_type": "display_data"
    }
   ],
   "source": [
    "# GRUPO 0: Coloque seu código aqui...\n",
    "\n",
    "df[df['cluster'] == 0].hist(figsize=(10,10));\n"
   ]
  },
  {
   "cell_type": "code",
   "execution_count": 29,
   "metadata": {
    "id": "1BN5s9uqNpeM"
   },
   "outputs": [
    {
     "data": {
      "image/png": "[encoded data removed]",
      "text/plain": [
       "<Figure size 1000x1000 with 6 Axes>"
      ]
     },
     "metadata": {},
     "output_type": "display_data"
    }
   ],
   "source": [
    "# GRUPO 1: Coloque seu código aqui...\n",
    "df[df['cluster'] == 1].hist(figsize=(10,10));\n"
   ]
  },
  {
   "cell_type": "markdown",
   "metadata": {
    "id": "opsJMt4ECoDE"
   },
   "source": [
    "### Visualização dos Clusters com PCA"
   ]
  },
  {
   "cell_type": "code",
   "execution_count": 30,
   "metadata": {
    "colab": {
     "base_uri": "https://localhost:8080/",
     "height": 564
    },
    "id": "BBunB0ZMCBMe",
    "outputId": "154960e3-ef96-4914-b12a-23fdce6eaca3"
   },
   "outputs": [
    {
     "data": {
      "image/png": "[encoded data removed]",
      "text/plain": [
       "<Figure size 800x600 with 1 Axes>"
      ]
     },
     "metadata": {},
     "output_type": "display_data"
    }
   ],
   "source": [
    "pca = PCA(n_components=2)\n",
    "df_pca = pca.fit_transform(df_scaled)\n",
    "df['pca1'] = df_pca[:, 0]\n",
    "df['pca2'] = df_pca[:, 1]\n",
    "\n",
    "plt.figure(figsize=(8,6))\n",
    "sns.scatterplot(data=df, x='pca1', y='pca2', hue='cluster', palette='Set2', s=100)\n",
    "plt.title('Visualização dos Clusters com PCA')\n",
    "plt.xlabel('Componente Principal 1')\n",
    "plt.ylabel('Componente Principal 2')\n",
    "plt.legend(title='Cluster')\n",
    "plt.grid(True)\n",
    "plt.show()"
   ]
  },
  {
   "cell_type": "code",
   "execution_count": 31,
   "metadata": {
    "colab": {
     "base_uri": "https://localhost:8080/"
    },
    "id": "yguNTMbTCAL8",
    "outputId": "31ede0bb-dc8b-448c-c120-efec3b8a976c"
   },
   "outputs": [
    {
     "name": "stdout",
     "output_type": "stream",
     "text": [
      "\n",
      "Médias por cluster:\n"
     ]
    },
    {
     "data": {
      "application/vnd.microsoft.datawrangler.viewer.v0+json": {
       "columns": [
        {
         "name": "cluster",
         "rawType": "int32",
         "type": "integer"
        },
        {
         "name": "acessos",
         "rawType": "float64",
         "type": "float"
        },
        {
         "name": "participacoes",
         "rawType": "float64",
         "type": "float"
        },
        {
         "name": "entregas",
         "rawType": "float64",
         "type": "float"
        },
        {
         "name": "nota_final",
         "rawType": "float64",
         "type": "float"
        }
       ],
       "conversionMethod": "pd.DataFrame",
       "ref": "b60b6fd6-dee4-4a0a-ac1a-530ab4649e0e",
       "rows": [
        [
         "0",
         "11.55",
         "3.91",
         "0.53",
         "5.23"
        ],
        [
         "1",
         "37.22",
         "16.11",
         "0.93",
         "8.89"
        ]
       ],
       "shape": {
        "columns": 4,
        "rows": 2
       }
      },
      "text/html": [
       "<div>\n",
       "<style scoped>\n",
       "    .dataframe tbody tr th:only-of-type {\n",
       "        vertical-align: middle;\n",
       "    }\n",
       "\n",
       "    .dataframe tbody tr th {\n",
       "        vertical-align: top;\n",
       "    }\n",
       "\n",
       "    .dataframe thead th {\n",
       "        text-align: right;\n",
       "    }\n",
       "</style>\n",
       "<table border=\"1\" class=\"dataframe\">\n",
       "  <thead>\n",
       "    <tr style=\"text-align: right;\">\n",
       "      <th></th>\n",
       "      <th>acessos</th>\n",
       "      <th>participacoes</th>\n",
       "      <th>entregas</th>\n",
       "      <th>nota_final</th>\n",
       "    </tr>\n",
       "    <tr>\n",
       "      <th>cluster</th>\n",
       "      <th></th>\n",
       "      <th></th>\n",
       "      <th></th>\n",
       "      <th></th>\n",
       "    </tr>\n",
       "  </thead>\n",
       "  <tbody>\n",
       "    <tr>\n",
       "      <th>0</th>\n",
       "      <td>11.55</td>\n",
       "      <td>3.91</td>\n",
       "      <td>0.53</td>\n",
       "      <td>5.23</td>\n",
       "    </tr>\n",
       "    <tr>\n",
       "      <th>1</th>\n",
       "      <td>37.22</td>\n",
       "      <td>16.11</td>\n",
       "      <td>0.93</td>\n",
       "      <td>8.89</td>\n",
       "    </tr>\n",
       "  </tbody>\n",
       "</table>\n",
       "</div>"
      ],
      "text/plain": [
       "         acessos  participacoes  entregas  nota_final\n",
       "cluster                                              \n",
       "0          11.55           3.91      0.53        5.23\n",
       "1          37.22          16.11      0.93        8.89"
      ]
     },
     "execution_count": 31,
     "metadata": {},
     "output_type": "execute_result"
    }
   ],
   "source": [
    "# Parte 9: Interpretação dos Perfis\n",
    "print(\"\\nMédias por cluster:\")\n",
    "df.groupby('cluster')[features].mean().round(2)\n"
   ]
  }
 ],
 "metadata": {
  "colab": {
   "provenance": []
  },
  "kernelspec": {
   "display_name": "base",
   "language": "python",
   "name": "python3"
  },
  "language_info": {
   "codemirror_mode": {
    "name": "ipython",
    "version": 3
   },
   "file_extension": ".py",
   "mimetype": "text/x-python",
   "name": "python",
   "nbconvert_exporter": "python",
   "pygments_lexer": "ipython3",
   "version": "3.12.7"
  }
 },
 "nbformat": 4,
 "nbformat_minor": 4
}
