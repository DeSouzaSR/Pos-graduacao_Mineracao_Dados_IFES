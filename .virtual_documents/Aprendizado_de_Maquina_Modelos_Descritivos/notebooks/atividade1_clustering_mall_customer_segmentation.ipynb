





import pandas as pd
import numpy as np
import matplotlib.pyplot as plt
import seaborn as sns





path_file = r'../../datasets/segmentation_data.csv'
customer_info = pd.read_csv(path_file)
customer_info.sample(5)




















customer_info.info()


customer_info.describe()





num_columns = ['ID','Age','Income']
cat_columns = ['Sex','Marital status','Education','Occupation','Settlement size']
customer_info[cat_columns] = customer_info[cat_columns].astype('str')
customer_info.describe(include='object').T

















for numerical in num_columns:
    plt.figure(figsize=(8,4))
    sns.histplot(data=customer_info, x=numerical)








for category in cat_columns:
    plt.figure(figsize=(4,2))
    sns.countplot(data=customer_info, x=category, hue=category)











sns.lmplot(x='Age', y='Income',  line_kws={'color': 'red'},  data=customer_info)





import scipy.stats as stats
print(stats.pearsonr(customer_info['Age'], customer_info['Income']))


sns.lmplot(x='Age', y='Income', hue='Sex', data=customer_info)








for category in cat_columns:
    for numerical in num_columns:
        if numerical != 'ID':
            plt.figure(figsize=(8,4))
            sns.kdeplot(data=customer_info, x=numerical, hue=category) ## Non-normalized version of this plot by switching kdeplot for histplot





cat_columns


cat_aux = cat_columns.copy()
for category1 in cat_columns:
    cat_aux.pop(0);
    for category2 in cat_aux:
        if category1 != category2:
            plt.figure(figsize=(8,4))
            sns.countplot(data=customer_info, x=category1, hue=category2)






