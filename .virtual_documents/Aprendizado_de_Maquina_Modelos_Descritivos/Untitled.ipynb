





import pandas as pd
import numpy as np
import matplotlib.pyplot as plt
import seaborn as sns





customer_info = pd.read_csv('segmentation_data.csv')
customer_info.sample(5)
