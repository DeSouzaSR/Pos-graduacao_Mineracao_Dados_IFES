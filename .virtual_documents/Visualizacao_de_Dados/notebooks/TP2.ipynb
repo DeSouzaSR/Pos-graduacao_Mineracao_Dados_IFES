


from matplotlib import image
from matplotlib import pyplot as plt
import numpy as np
from PIL import Image 





# Carregar a imagem como array NumPy
img = image.imread('figuras/cidade_vitoria.jpg')

# Informação da imagem
plt.imshow(img)
plt.axis('off') # Remove os eixos
plt.show()

# Acessando um pixel específico 
y, x = 100, 200  # Coordenadas 
pixel = img[y, x]  # Lembrando que a indexação começa em (0,0)
print(f"Pixel na posição ({y},{x}): {pixel}")  # Se for RGB, exibe no formato [R, G, B]





# Carregar a imagem como array numpy
img = image.imread('figuras/cidade_vitoria.jpg')

# Verificar se a imagem tem 3 canais (RGB)
if len(img.shape) == 3 and img.shape[2] == 3:     
    # Converter para grayscale usando a média ponderada (percepção humana)     
    img_gray = np.dot(img[..., :3], [0.2989, 0.5870, 0.1140])
else:     
    img_gray = img  # Se já for grayscale, mantém a mesma imagem

# Informações da imagem
print("Tipo de dados: ", img_gray.dtype)
print("Dimensões da imagem grayscale(altura, largura):", img_gray.shape) # Exemplo: (1080, 1920)

# Mostrar a imagem em grayscale
plt.imshow(img_gray, cmap='gray') # Usa 'gray' para exibir corretamente
plt.axis('off') # Remove os eixos
plt.title("Imagem em Tons de Cinza")
plt.show()

# Salvar a iamgem em tons de cinza
plt.imsave('figuras/cidade_vitoria.jpg', img_gray, cmap='gray')





# Carregar a imagem RGB
img = Image.open('figuras/cidade_vitoria.jpg')

# Converter a imagem para tons de cinza
img_gray = img.convert('L')

# Converter a imagem em tons de cinza para um array Numpy.
img_gray_array = np.array(img_gray)

# Inverter os valores dos pixels
img_inverted = 255 - img_gray_array

# Converter os arrays para imagens PIL
img_inverted_pil = Image.fromarray(img_inverted)
img_gray_pil = Image.fromarray(img_gray_array)

# Salvar as imagens 
img_gray_pil.save('figuras/cidade_vitoria_gray.png') # Salva a imagem em tons de cinza
img_inverted_pil.save('figuras/cidade_vitoria_inverted.png') # Salva a imagem invertida

# Exibir a imagem original e a imagem transformada  e invertida.
fig, axes = plt.subplots(1, 2, figsize=(12, 6))

# Mostrar a imagem original
axes[0].imshow(img_gray, cmap='gray')
axes[0].set_title('Imagens em tons de cinza')
axes[0].axis('off')

# Mostrar a imagem invertida 
axes[1].imshow(img_inverted, cmap='gray') 
axes[1].set_title('Imagem Invertida') 
axes[1].axis('off')  

plt.tight_layout() 
plt.show() 



