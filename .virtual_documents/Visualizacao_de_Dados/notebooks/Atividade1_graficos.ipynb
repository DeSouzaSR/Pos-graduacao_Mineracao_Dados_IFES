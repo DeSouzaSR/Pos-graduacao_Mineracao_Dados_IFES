














path_file = r'../../datasets/vitoria.csv'


df = pd.read_csv(path_file, sep=';')
df





import matplotlib.pyplot as plt

# Dados fixos: Tipos de frutas e suas quantidades vendidas
frutas = ['Maçã', 'Banana', 'Laranja', 'Uva', 'Pera']
quantidades = [150, 200, 180, 120, 140]

# Criando o gráfico de barras
plt.figure(figsize=(8, 6))
plt.bar(frutas, quantidades, color='orange', edgecolor='black')

# Adicionando rótulos e título
plt.xlabel("Frutas")
plt.ylabel("Quantidade Vendida")
plt.title("Quantidade de Frutas Vendidas (Bar Chart)")

# Exibindo o gráfico
plt.show()





import matplotlib.pyplot as plt  

# Dados fixos: Categorias de produtos e número de vendas 
categorias_produtos = ["Eletrônicos", "Roupas", "Alimentos", "Livros", "Móveis"] 
quantidade_vendas = [350, 500, 1200, 450, 300]  

# Função para formatar os labels com número e porcentagem 
def label_func(pct, allvals):     
    absolute = pct / 100.*sum(allvals)     
    return f'{int(absolute)} ({pct:.1f}%)'  
    
# Criando o gráfico de pizza 
plt.figure(figsize=(8, 6)) 
plt.pie(quantidade_vendas, labels=categorias_produtos, autopct=lambda pct: label_func(pct, quantidade_vendas),
        colors=['#ff9999','#66b3ff','#99ff99','#ffcc99','#c2c2f0'])  

# Adicionando título 
plt.title("Distribuição de Vendas por Categoria de Produto (Pie Chart)")  

# Exibindo o gráfico 
plt.show() 





import matplotlib.pyplot as plt  # Exemplo: Distribuição de idades de um grupo de pessoas

# Dados de idades (valores discretos de idades de pessoas em um grupo)
idades = [
	18, 22, 25, 30, 34, 40, 41, 45, 50, 53, 58, 60, 62, 65, 67, 70, 72, 75, 78, 79,
	20, 21, 23, 24, 28, 31, 36, 42, 47, 51, 55, 59, 63, 66, 68, 71, 73, 76, 77, 80
]

# Criando o histograma
# O eixo X são os intervalos de idade (faixas)
# O eixo Y é o número de pessoas que caem dentro de cada faixa
plt.figure(figsize=(10, 6))

# 'bins' representa as faixas de idades: [18-28], [29-39], ..., [79-89], [90+]
bins = [18, 29, 39, 49, 59, 69, 79, 89, 100]

# Ajustando para faixas uniformes
n, bins, patches = plt.hist(idades, bins=bins, color='skyblue', edgecolor='black', alpha=0.7)

# Adicionando rótulos e título
plt.xlabel("Faixa de Idades")  # Eixo X: Faixa etária
plt.ylabel("Número de Pessoas")  # Eixo Y: Quantidade de pessoas
plt.title("Distribuição de Idades de um Grupo (Histograma)")

# Colocando o número de pessoas dentro das barras, ajustados
for i in range(len(patches)):
	height = patches[i].get_height()  # Pega a altura da barra (quantidade de pessoas)
	# Coloca o número no gráfico em cima de cada barra, ajustado mais próximo do topo
	plt.text(
		patches[i].get_x() + patches[i].get_width() / 2,
		height + 0.09,  # Ajuste do número
		f'{int(height)}',
		ha='center',
		va='bottom',
		fontsize=10,
		color='black'
	)

# Exibindo o gráfico
plt.show()





import matplotlib.pyplot as plt 
import numpy as np  

# Dados de temperatura ao longo de um dia (em graus Celsius) - com outliers 
temperaturas = [22, 23, 24, 25, 27, 28, 29, 30, 31, 32,                  
                33, 34, 36, 35, 37, 38, 39, 40, 42, 44,                  
                43, 45, 49, 50, 32, 31, 49, 55, 56, 59, 85, 70]  # outliers (85,70)  

# Criando o boxplot 
plt.figure(figsize=(8, 6)) 
plt.boxplot(temperaturas, vert=True, patch_artist=True, boxprops=dict(facecolor='skyblue')) 

# Adicionando rótulos e título 
plt.ylabel("Temperatura (°C)") 
plt.title("Distribuição de Temperaturas (Boxplot)")  

# Exibindo o gráfico 
plt.show() 





import numpy as np
import matplotlib.pyplot as plt
import seaborn as sns

# Exemplo: Temperaturas registradas ao longo da semana em diferentes horários do dia
dias = ["Seg", "Ter", "Qua", "Qui", "Sex", "Sáb", "Dom"]
horarios = ["00h", "03h", "06h", "09h", "12h", "15h", "18h", "21h"]

# Matriz de temperaturas simuladas (linhas = dias, colunas = horários)
temperaturas = np.array([
	[22, 21, 20, 25, 30, 33, 29, 26],  # Segunda
	[23, 22, 21, 26, 31, 34, 30, 27],  # Terça
	[24, 22, 21, 27, 32, 35, 31, 28],  # Quarta
	[25, 23, 22, 28, 33, 36, 32, 29],  # Quinta
	[26, 24, 23, 29, 34, 37, 33, 30],  # Sexta
	[27, 25, 24, 30, 35, 38, 34, 31],  # Sábado
	[28, 26, 25, 31, 36, 39, 35, 32],  # Domingo
])

# Criando o mapa de calor
plt.figure(figsize=(8, 6))
sns.heatmap(temperaturas, annot=True, cmap="coolwarm", xticklabels=horarios, yticklabels=dias)

# Adicionando rótulos e título
plt.xlabel("Horário do Dia")
plt.ylabel("Dia da Semana")
plt.title("Mapa de Calor das Temperaturas ao Longo da Semana")

# Exibindo o gráfico
plt.show()






import matplotlib.pyplot as plt
import numpy as np
import matplotlib.patches as patches

# Definição das etapas e valores
etapas = ["Visitantes", "Interessados", "Propostas Enviadas", "Negociações", "Vendas"]
valores = [1000, 600, 300, 150, 80]  # Quantidade de clientes em cada etapa

# Normalizando larguras para efeito de funil
larguras = np.array(valores) / max(valores)
posicoes = np.arange(len(etapas), 0, -1)  # Para inverter e o funil começar no topo

# Criando a figura
fig, ax = plt.subplots(figsize=(6, 8))

# Desenhando as etapas do funil com trapézios
for i in range(len(etapas)):
    if i < len(etapas) - 1:
        largura_base = larguras[i]
        largura_topo = larguras[i + 1]
    else:
        largura_base = largura_topo = larguras[i]  # Última etapa mantém o formato

    pontos = [
        (-largura_base / 2, posicoes[i]),  # Canto esquerdo superior
        (largura_base / 2, posicoes[i]),   # Canto direito superior
        (largura_topo / 2, posicoes[i + 1] if i < len(etapas) - 1 else posicoes[i] - 0.6),  # Canto direito inferior
        (-largura_topo / 2, posicoes[i + 1] if i < len(etapas) - 1 else posicoes[i] - 0.6)  # Canto esquerdo inferior
    ]
    poligono = patches.Polygon(pontos, closed=True, color="royalblue", alpha=0.7)
    ax.add_patch(poligono)

    # Adicionando os valores dentro das etapas
    ax.text(
        0,
        (posicoes[i] + (posicoes[i + 1] if i < len(etapas) - 1 else posicoes[i] - 0.3)) / 2,
        str(valores[i]),
        ha="center",
        va="center",
        fontsize=12,
        color="white",
        fontweight="bold"
    )

# Ajustando os eixos e rótulos
ax.set_xlim(-0.6, 0.6)
ax.set_ylim(0, len(etapas))
ax.set_yticks(posicoes)
ax.set_yticklabels(etapas[::-1])  # Inverte para que a primeira etapa fique no topo
ax.set_xticks([])
ax.set_frame_on(False)

# Adicionando título
plt.title("Funil de Vendas", fontsize=14, fontweight="bold")

# Exibir gráfico
plt.show()





import plotly.express as px
import pandas as pd

# Definição das etapas do funil e os valores correspondentes
dados = pd.DataFrame({
    "Etapa": ["Visitantes", "Interessados", "Propostas Enviadas", "Negociações", "Vendas"],
    "Quantidade": [1000, 600, 300, 150, 80]
})

# Criando o gráfico de funil
fig = px.funnel(dados, x="Quantidade", y="Etapa", title="Funil de Vendas")

# Exibir gráfico
fig.show()





import numpy as np
import matplotlib.pyplot as plt

# Definir intervalo e valor atual
min_valor = 0
max_valor = 100
valor_atual = 75  # Exemplo: desempenho atual

# Criar figura
fig, ax = plt.subplots(figsize=(6, 4), subplot_kw={'projection': 'polar'})

# Criar arco colorido (somente contorno)
cores = ['green', 'yellow', 'red']
faixas = np.linspace(np.pi, 0, len(cores) + 1)  # Agora invertido (maior para menor ângulo)

for i in range(len(cores)):
	angulo_inicio = faixas[i]
	angulo_fim = faixas[i + 1]
	angulos = np.linspace(angulo_inicio, angulo_fim, 50)
	ax.plot(angulos, np.ones_like(angulos), color=cores[i], linewidth=6)

# Criar ponteiro
angulo_ponteiro = np.pi * (1 - (valor_atual - min_valor) / (max_valor - min_valor))
ax.arrow(angulo_ponteiro, 0, 0, 0.8, width=0.05, head_width=0.15, head_length=0.15, fc='black', ec='black')

# Configuração do gráfico
ax.set_xticks([])  # Remover marcas no eixo X
ax.set_yticks([])  # Remover marcas no eixo Y
ax.set_ylim(0, 1.2)  # Limitar altura do gráfico para espaço extra
ax.set_frame_on(False)  # Remover borda do gráfico

# Coordenadas para exibir o número ACIMA do semicírculo
x_text = angulo_ponteiro  # Mesmo ângulo do ponteiro
y_text = 1.3  # Um pouco acima da borda do semicírculo

# Exibir número acima da linha do velocímetro
ax.text(x_text, y_text, f"{valor_atual}%", ha='center', va='center', fontsize=20, fontweight='bold', color='black')

# Adicionar título e exibir gráfico
plt.title("Desempenho", fontsize=14, fontweight='bold')
plt.show()





import matplotlib.pyplot as plt
import squarify

# Dados
categorias = ["Eletrônicos", "Roupas", "Alimentos", "Móveis", "Brinquedos", "Livros"]
valores = [5000, 3000, 4000, 2000, 1000, 1500]  # Representam, por exemplo, vendas em R$

# Criar rótulos com os valores
rotulos = [f"{cat}\nR$ {val}" for cat, val in zip(categorias, valores)]

# Definir cores para cada categoria
cores = ["#1f77b4", "#ff7f0e", "#2ca02c", "#d62728", "#9467bd", "#8c564b"]

# Criar o gráfico
plt.figure(figsize=(8, 6))
squarify.plot(
    sizes=valores,
    label=rotulos,
    color=cores,
    alpha=0.7,
    text_kwargs={'fontsize': 12}
)

# Ajustes do gráfico
plt.axis("off")  # Remove eixos para melhor visualização
plt.title("Mapa de Árvore - Vendas por Categoria", fontsize=14, fontweight="bold")

# Exibir o gráfico
plt.show()





import numpy as np
import matplotlib.pyplot as plt

# Definindo categorias e valores do aluno
categorias = ['Matemática', 'Física', 'Química', 'Biologia', 'História', 'Inglês']
valores = [8, 7, 9, 6, 7, 8]  # Notas do aluno (de 0 a 10)

# Número de variáveis
N = len(categorias)

# Criando ângulos para cada categoria
angulos = np.linspace(0, 2 * np.pi, N, endpoint=False).tolist()

# Fechar o gráfico conectando o primeiro valor no final
valores += valores[:1]  # Repetir o primeiro valor no final para fechar o gráfico
angulos += angulos[:1]  # Fechar o ângulo do gráfico

# Criando o gráfico
fig, ax = plt.subplots(figsize=(7, 7), subplot_kw=dict(polar=True))

# Plotando a linha e preenchendo a área
ax.plot(angulos, valores, color='blue', linewidth=2, linestyle='solid', label="Aluno A")
ax.fill(angulos, valores, color='skyblue', alpha=0.4)

# Adicionando os valores nos pontos do gráfico
for i, valor in enumerate(valores[:-1]):  # Ignorar o último valor repetido
	angulo_rad = angulos[i]
	ax.text(angulo_rad, valor + 0.5, str(valor), color='black', fontsize=12, ha='center', va='center')

# Adicionando rótulos nas bordas
ax.set_xticks(angulos[:-1])
ax.set_xticklabels(categorias)

# Removendo os valores do eixo radial (Y) para ficar mais limpo
ax.set_yticklabels([])

# Adicionando título
plt.title("Desempenho do Aluno por Disciplina")

# Exibindo o gráfico
plt.show()





import plotly.express as px
import pandas as pd
import plotly.io as pio
pio.renderers.default = 'notebook'

# Criando um DataFrame com os dados hierárquicos
dados = pd.DataFrame({
    "Categoria": ["", "", "", "Produtos", "Produtos", "Produtos", "Serviços", "Serviços", "Eletrônicos", "Eletrônicos", "Móveis"],
    "Subcategoria": ["Produtos", "Serviços", "Eletrônicos", "Eletrônicos", "Móveis", "Roupas", "Consultoria", "Treinamento", "Celulares", "Notebooks", "Cadeiras"],
    "Valor": [17000, 7000, 10000, 10000, 7000, 5000, 4000, 3000, 6000, 4000, 3500]
})

# Criando o gráfico de explosão solar com rótulos personalizados
fig = px.sunburst(
    data_frame=dados,
    path=["Categoria", "Subcategoria"],
    values="Valor",
    title="Gráfico de Explosão Solar - Vendas",
    hover_data={"Valor": True},
)

# Mostra os valores fixos
fig.update_traces(textinfo="label+value")

# Centralizar o título
fig.update_layout(title_x=0.5)

# Exibir o gráfico
fig.show()



