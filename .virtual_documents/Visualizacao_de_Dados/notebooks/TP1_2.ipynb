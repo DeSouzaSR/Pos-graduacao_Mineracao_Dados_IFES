





# Carregando a imagem
from matplotlib import image
import numpy as np
import matplotlib.pyplot as plt
from PIL import Image
from skimage import exposure
import sys





path_file = r'../figuras/imagem_carro.png'
img = image.imread(path_file)





# Informações da imagem
print("Tipo de dado:", img.dtype) # Exemplo: uint8
print("Dimensões da imagem (altura, largura, canais):", img.shape)  # Exemplo: (1080, 1920, 3)

# Mostrar a imagem
plt.imshow(img)
plt.axis('off')
plt.show()

# Acessando um pixel específico
y, x = 100, 200  # Coordenadas
pixel = img[y, x]  # Lembrando que a indexação começa em (0,0)





# Confirma se a imagem é RGB ou tons de cinza
if len(img.shape) == 3 and img.shape[2] == 3:
  print("A imagem RGB.")
elif len(img.shape) == 2 or (len(img.shape) == 3 and img.shape[2] == 1):
  print("A imagem em tons de cinza.")
else:
  print("Não foi possível determinar se a imagem é RGB ou tons de cinza.")











# A imagem já está em tons de cinza. Vamos fazer uma cópia.
img_gray = img

# Converter a imagem em tons de cinza para um array Numpy.
img_gray_array = np.array(img_gray)

# Inverter os valores dos pixels
img_inverted = 255 - img_gray_array

# Converter os arrays para imagens PIL
img_inverted_pil = Image.fromarray(img_inverted)
img_gray_pil = Image.fromarray(img_gray_array)

# Exibir a imagem original e a imagem transformada  e invertida.
fig, axes = plt.subplots(1, 2, figsize=(12, 6))

# Mostrar a imagem original
axes[0].imshow(img_gray, cmap='gray')
axes[0].set_title('Imagens em tons de cinza')
axes[0].axis('off')

# Mostrar a imagem invertida
axes[1].imshow(img_inverted, cmap='gray')
axes[1].set_title('Imagem Invertida')
axes[1].axis('off')

plt.tight_layout()
plt.show()








# def ajuste_contraste(img_array, fator=2.0):
#     """
#         Ajusta o contraste da imagem multiplicando os valores dos pixels pelo fator.
#     """
#     img_array = np.clip(fator * (img_array - 128) + 128, 0, 255)
#     return img_array.astype(np.uint8)


def ajuste_contraste(img_array, fator=2.0):
    """
    Ajusta o contraste de uma imagem em tons de cinza.
    """
    # Garantir que a imagem está em uint8 (0-255)
    if img_array.dtype != np.uint8:
        img_array = (img_array * 255).astype(np.uint8)

    # Aplicar ajuste de contraste em imagem de um canal
    img_array = np.clip(fator * (img_array - 128) + 128, 0, 255)

    return img_array.astype(np.uint8)


# Converter a imagem para um array numpy
img_array = np.array(img)

# Ajuste do contraste
img_contraste = ajuste_contraste(img_array, 1.0)

# Equalização do histograma
img_equalizada = exposure.equalize_hist(img_array / 255.0) # Normaliza de 0 a 1
img_equalizada = (img_equalizada * 255).astype(np.uint8) # Volta para 0 a 255

# Criar figuras lado a lado
fig, axes = plt.subplots(1, 3, figsize=(15, 5))  # 1 linha, 3 colunas, tamanho ajustado

# Plotar cada imagem no subplot correspondente
axes[0].imshow(img, cmap='gray')
axes[0].set_title('Imagem Original')
axes[0].axis('off')  # Esconde os eixos

axes[1].imshow(img_contraste, cmap='gray')
axes[1].set_title('Contraste Ajustado')
axes[1].axis('off')

axes[2].imshow(img_equalizada, cmap='gray')
axes[2].set_title('Equalizada')
axes[2].axis('off')

# Ajustar espaçamento
plt.tight_layout()
plt.show()












