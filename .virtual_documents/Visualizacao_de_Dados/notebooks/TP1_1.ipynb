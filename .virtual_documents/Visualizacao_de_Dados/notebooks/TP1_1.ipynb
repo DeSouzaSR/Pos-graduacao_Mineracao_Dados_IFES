





import pandas as pd
import matplotlib.pyplot as plt
import numpy as np








path_file = r'../../datasets/vitoria.csv'


# Lendo o dataframe
df = pd.read_csv(path_file, sep=";")


df





# Remover a coluna 'TMMCF' pois não temos valores no exemplo dado
df = df.drop(columns=["TMMCF"], errors='ignore')





# Remover no df a linha cuja Dependência Administrativa Federal
df = df[df["Dependência Administrativa"] != "Federal"]


df





plt.figure(figsize=(12, 6))

# Definir as séries (anos escolares) no eixo X
anos = df.columns[1:]  # Ignorando a coluna de dependência
x = np.arange(len(anos))  # Posições no eixo X

# Largura das barras
largura = 0.15

# Criar um mapeamento de cores para cada dependência administrativa
cores = {
    "Estadual": "blue",
    "Municipal": "orange",
    "Privada": "green",
    "Pública": "red"
}

# Iterar sobre as dependências e plotar as barras
for i, dependencia in enumerate(["Estadual", "Municipal", "Privada", "Pública"]):
    valores = df[df["Dependência Administrativa"] == dependencia].iloc[:, 1:].values.flatten()
    plt.bar(x + i * largura, valores, width=largura, label=dependencia, color=cores[dependencia])

# Criar o gráfico

plt.xticks(x + largura * 1.5, anos, rotation=45)  # Ajustando as posições e rótulos
plt.xlabel("Ano Escolar")
plt.ylabel("Índice")
plt.title("Índice de ocupação por Ano Escolar e Dependência Administrativa")
plt.legend(title="Dependência Administrativa")
plt.grid(axis="y", linestyle="--", alpha=0.7)
plt.show()





plt.figure(figsize=(12, 6))

# Definir as séries (anos escolares) no eixo X
anos = df.columns[1:]  # Ignorando a coluna de dependência
x = np.arange(len(anos))  # Posições no eixo X

# Largura das barras
largura = 0.15

# Criar um mapeamento de cores para cada dependência administrativa
cores = {
    "Estadual": "blue",
    "Municipal": "orange",
}

# Iterar sobre as dependências e plotar as barras
for i, dependencia in enumerate(["Estadual", "Municipal"]):
    valores = df[df["Dependência Administrativa"] == dependencia].iloc[:, 1:].values.flatten()
    plt.bar(x + i * largura, valores, width=largura, label=dependencia, color=cores[dependencia])

# Criar o gráfico
plt.xticks(x + largura * 1.5, anos, rotation=45)  # Ajustando as posições e rótulos
plt.xlabel("Ano Escolar")
plt.ylabel("Índice")
plt.title("Índice de ocupação por Ano Escolar e Dependência Administrativa")
plt.legend(title="Dependência Administrativa")
plt.ylim(15, 35)
plt.grid(axis="y", linestyle="--", alpha=0.7)
plt.show()


plt.figure(figsize=(12, 6))

# Definir as séries (anos escolares) no eixo X
anos = df.columns[1:]  # Ignorando a coluna de dependência
x = np.arange(len(anos))  # Posições no eixo X

# Largura das barras
largura = 0.15

# Criar um mapeamento de cores para cada dependência administrativa
cores = {
    "Privada": "green",
    "Pública": "red"
}

# Iterar sobre as dependências e plotar as barras
for i, dependencia in enumerate(["Privada", "Pública"]):
    valores = df[df["Dependência Administrativa"] == dependencia].iloc[:, 1:].values.flatten()
    plt.bar(x + i * largura, valores, width=largura, label=dependencia, color=cores[dependencia])

# Criar o gráfico
plt.xticks(x + largura * 1.5, anos, rotation=45)  # Ajustando as posições e rótulos
plt.xlabel("Ano Escolar")
plt.ylabel("Índice")
plt.title("Índice de ocupação por Ano Escolar e Dependência Administrativa")
plt.legend(title="Dependência Administrativa")
plt.grid(axis="y", linestyle="--", alpha=0.7)
plt.ylim(15, 35)
plt.show()









# Dicionário para armazenar os resultados
ocupacao_extremos = {}

# Iterar sobre cada dependência administrativa
for _, row in df.iterrows():
    dependencia = row["Dependência Administrativa"]
    menor_valor = row.iloc[1:].min()  # Menor valor da linha (ignorando a 1ª coluna)
    maior_valor = row.iloc[1:].max()  # Maior valor da linha (ignorando a 1ª coluna)
    
    # Armazenar no dicionário
    ocupacao_extremos[dependencia] = {"Menor Ocupação": menor_valor, "Maior Ocupação": maior_valor}

# Exibir resultados
for dependencia, valores in ocupacao_extremos.items():
    print(f"{dependencia}: Menor ocupação = {valores['Menor Ocupação']}, Maior ocupação = {valores['Maior Ocupação']}")






