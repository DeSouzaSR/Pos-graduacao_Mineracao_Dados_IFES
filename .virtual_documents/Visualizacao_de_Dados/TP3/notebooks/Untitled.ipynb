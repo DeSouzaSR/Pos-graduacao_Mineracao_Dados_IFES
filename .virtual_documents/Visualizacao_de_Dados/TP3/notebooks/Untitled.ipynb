








import pandas as pd
import numpy as np
import random
import os





path_municipios = r'../../../datasets/nomes_codigos_municipios_ES.xlsx'
municipios = pd.read_excel(path_municipios)


municipios.head()
























