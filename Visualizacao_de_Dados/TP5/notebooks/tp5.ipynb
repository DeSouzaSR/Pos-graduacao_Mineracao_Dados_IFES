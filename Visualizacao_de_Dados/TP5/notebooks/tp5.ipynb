{
 "cells": [
  {
   "cell_type": "markdown",
   "id": "6f9613ce-0960-4fb4-bf6d-578385631f69",
   "metadata": {},
   "source": [
    "# PÓS-GRADUAÇÃO LATO SENSU ESPECIALIZAÇÃO EM MINERAÇÃO DE DADOS EDUCACIONAIS\n",
    "\n",
    "* Disciplina: Visualização de Dados\n",
    "* Professor: Dr. Richard Godinez Tello\n",
    "* Semestre: 2025/1\n",
    "* Aluno: Sandro Ricardo De Souza\n"
   ]
  },
  {
   "cell_type": "code",
   "execution_count": 1,
   "id": "5c261d66-207e-41cb-8bee-656602198200",
   "metadata": {},
   "outputs": [
    {
     "data": {
      "application/vnd.plotly.v1+json": {
       "config": {
        "plotlyServerURL": "https://plot.ly"
       },
       "data": [
        {
         "hoverinfo": "none",
         "line": {
          "color": "gray",
          "width": 2
         },
         "mode": "lines",
         "type": "scatter3d",
         "x": [
          0,
          8,
          null,
          0,
          9,
          null,
          2,
          5,
          null,
          2,
          6,
          null,
          4,
          8,
          null,
          4,
          7,
          null,
          6,
          9,
          null,
          6,
          5,
          null,
          8,
          6,
          null,
          8,
          7,
          null,
          8,
          8,
          null
         ],
         "y": [
          0,
          9,
          null,
          0,
          8,
          null,
          0,
          6,
          null,
          0,
          5,
          null,
          0,
          9,
          null,
          0,
          7,
          null,
          0,
          8,
          null,
          0,
          6,
          null,
          0,
          5,
          null,
          0,
          7,
          null,
          0,
          9,
          null
         ],
         "z": [
          0,
          12,
          null,
          0,
          10,
          null,
          0,
          7,
          null,
          0,
          6,
          null,
          0,
          12,
          null,
          0,
          8,
          null,
          0,
          10,
          null,
          0,
          7,
          null,
          0,
          6,
          null,
          0,
          8,
          null,
          0,
          12,
          null
         ]
        },
        {
         "marker": {
          "color": "darkblue",
          "size": 8
         },
         "mode": "markers+text",
         "text": [
          "Dr. Ana Silva",
          "Dr. Bruno Costa",
          "Dra. Clara Dantas",
          "Dr. Diego Fernandes",
          "Dra. Erika Souza"
         ],
         "textposition": "top center",
         "type": "scatter3d",
         "x": [
          0,
          2,
          4,
          6,
          8
         ],
         "y": [
          0,
          0,
          0,
          0,
          0
         ],
         "z": [
          0,
          0,
          0,
          0,
          0
         ]
        },
        {
         "marker": {
          "color": "darkgreen",
          "size": 8
         },
         "mode": "markers+text",
         "text": [
          "Inteligência Artificial",
          "Processamento de Sinais",
          "Machine Learning",
          "Visão Computacional",
          "Robótica"
         ],
         "textposition": "top center",
         "type": "scatter3d",
         "x": [
          8,
          5,
          9,
          7,
          6
         ],
         "y": [
          9,
          6,
          8,
          7,
          5
         ],
         "z": [
          12,
          7,
          10,
          8,
          6
         ]
        }
       ],
       "layout": {
        "margin": {
         "b": 0,
         "l": 0,
         "r": 0,
         "t": 50
        },
        "scene": {
         "aspectmode": "cube",
         "xaxis": {
          "showbackground": true,
          "title": {
           "text": "Nível de Inovação da Área"
          }
         },
         "yaxis": {
          "showbackground": true,
          "title": {
           "text": "Relevância no Mercado"
          }
         },
         "zaxis": {
          "showbackground": true,
          "title": {
           "text": "Número de Publicações Recentes"
          }
         }
        },
        "showlegend": false,
        "template": {
         "data": {
          "bar": [
           {
            "error_x": {
             "color": "#2a3f5f"
            },
            "error_y": {
             "color": "#2a3f5f"
            },
            "marker": {
             "line": {
              "color": "#E5ECF6",
              "width": 0.5
             },
             "pattern": {
              "fillmode": "overlay",
              "size": 10,
              "solidity": 0.2
             }
            },
            "type": "bar"
           }
          ],
          "barpolar": [
           {
            "marker": {
             "line": {
              "color": "#E5ECF6",
              "width": 0.5
             },
             "pattern": {
              "fillmode": "overlay",
              "size": 10,
              "solidity": 0.2
             }
            },
            "type": "barpolar"
           }
          ],
          "carpet": [
           {
            "aaxis": {
             "endlinecolor": "#2a3f5f",
             "gridcolor": "white",
             "linecolor": "white",
             "minorgridcolor": "white",
             "startlinecolor": "#2a3f5f"
            },
            "baxis": {
             "endlinecolor": "#2a3f5f",
             "gridcolor": "white",
             "linecolor": "white",
             "minorgridcolor": "white",
             "startlinecolor": "#2a3f5f"
            },
            "type": "carpet"
           }
          ],
          "choropleth": [
           {
            "colorbar": {
             "outlinewidth": 0,
             "ticks": ""
            },
            "type": "choropleth"
           }
          ],
          "contour": [
           {
            "colorbar": {
             "outlinewidth": 0,
             "ticks": ""
            },
            "colorscale": [
             [
              0,
              "#0d0887"
             ],
             [
              0.1111111111111111,
              "#46039f"
             ],
             [
              0.2222222222222222,
              "#7201a8"
             ],
             [
              0.3333333333333333,
              "#9c179e"
             ],
             [
              0.4444444444444444,
              "#bd3786"
             ],
             [
              0.5555555555555556,
              "#d8576b"
             ],
             [
              0.6666666666666666,
              "#ed7953"
             ],
             [
              0.7777777777777778,
              "#fb9f3a"
             ],
             [
              0.8888888888888888,
              "#fdca26"
             ],
             [
              1,
              "#f0f921"
             ]
            ],
            "type": "contour"
           }
          ],
          "contourcarpet": [
           {
            "colorbar": {
             "outlinewidth": 0,
             "ticks": ""
            },
            "type": "contourcarpet"
           }
          ],
          "heatmap": [
           {
            "colorbar": {
             "outlinewidth": 0,
             "ticks": ""
            },
            "colorscale": [
             [
              0,
              "#0d0887"
             ],
             [
              0.1111111111111111,
              "#46039f"
             ],
             [
              0.2222222222222222,
              "#7201a8"
             ],
             [
              0.3333333333333333,
              "#9c179e"
             ],
             [
              0.4444444444444444,
              "#bd3786"
             ],
             [
              0.5555555555555556,
              "#d8576b"
             ],
             [
              0.6666666666666666,
              "#ed7953"
             ],
             [
              0.7777777777777778,
              "#fb9f3a"
             ],
             [
              0.8888888888888888,
              "#fdca26"
             ],
             [
              1,
              "#f0f921"
             ]
            ],
            "type": "heatmap"
           }
          ],
          "histogram": [
           {
            "marker": {
             "pattern": {
              "fillmode": "overlay",
              "size": 10,
              "solidity": 0.2
             }
            },
            "type": "histogram"
           }
          ],
          "histogram2d": [
           {
            "colorbar": {
             "outlinewidth": 0,
             "ticks": ""
            },
            "colorscale": [
             [
              0,
              "#0d0887"
             ],
             [
              0.1111111111111111,
              "#46039f"
             ],
             [
              0.2222222222222222,
              "#7201a8"
             ],
             [
              0.3333333333333333,
              "#9c179e"
             ],
             [
              0.4444444444444444,
              "#bd3786"
             ],
             [
              0.5555555555555556,
              "#d8576b"
             ],
             [
              0.6666666666666666,
              "#ed7953"
             ],
             [
              0.7777777777777778,
              "#fb9f3a"
             ],
             [
              0.8888888888888888,
              "#fdca26"
             ],
             [
              1,
              "#f0f921"
             ]
            ],
            "type": "histogram2d"
           }
          ],
          "histogram2dcontour": [
           {
            "colorbar": {
             "outlinewidth": 0,
             "ticks": ""
            },
            "colorscale": [
             [
              0,
              "#0d0887"
             ],
             [
              0.1111111111111111,
              "#46039f"
             ],
             [
              0.2222222222222222,
              "#7201a8"
             ],
             [
              0.3333333333333333,
              "#9c179e"
             ],
             [
              0.4444444444444444,
              "#bd3786"
             ],
             [
              0.5555555555555556,
              "#d8576b"
             ],
             [
              0.6666666666666666,
              "#ed7953"
             ],
             [
              0.7777777777777778,
              "#fb9f3a"
             ],
             [
              0.8888888888888888,
              "#fdca26"
             ],
             [
              1,
              "#f0f921"
             ]
            ],
            "type": "histogram2dcontour"
           }
          ],
          "mesh3d": [
           {
            "colorbar": {
             "outlinewidth": 0,
             "ticks": ""
            },
            "type": "mesh3d"
           }
          ],
          "parcoords": [
           {
            "line": {
             "colorbar": {
              "outlinewidth": 0,
              "ticks": ""
             }
            },
            "type": "parcoords"
           }
          ],
          "pie": [
           {
            "automargin": true,
            "type": "pie"
           }
          ],
          "scatter": [
           {
            "fillpattern": {
             "fillmode": "overlay",
             "size": 10,
             "solidity": 0.2
            },
            "type": "scatter"
           }
          ],
          "scatter3d": [
           {
            "line": {
             "colorbar": {
              "outlinewidth": 0,
              "ticks": ""
             }
            },
            "marker": {
             "colorbar": {
              "outlinewidth": 0,
              "ticks": ""
             }
            },
            "type": "scatter3d"
           }
          ],
          "scattercarpet": [
           {
            "marker": {
             "colorbar": {
              "outlinewidth": 0,
              "ticks": ""
             }
            },
            "type": "scattercarpet"
           }
          ],
          "scattergeo": [
           {
            "marker": {
             "colorbar": {
              "outlinewidth": 0,
              "ticks": ""
             }
            },
            "type": "scattergeo"
           }
          ],
          "scattergl": [
           {
            "marker": {
             "colorbar": {
              "outlinewidth": 0,
              "ticks": ""
             }
            },
            "type": "scattergl"
           }
          ],
          "scattermap": [
           {
            "marker": {
             "colorbar": {
              "outlinewidth": 0,
              "ticks": ""
             }
            },
            "type": "scattermap"
           }
          ],
          "scattermapbox": [
           {
            "marker": {
             "colorbar": {
              "outlinewidth": 0,
              "ticks": ""
             }
            },
            "type": "scattermapbox"
           }
          ],
          "scatterpolar": [
           {
            "marker": {
             "colorbar": {
              "outlinewidth": 0,
              "ticks": ""
             }
            },
            "type": "scatterpolar"
           }
          ],
          "scatterpolargl": [
           {
            "marker": {
             "colorbar": {
              "outlinewidth": 0,
              "ticks": ""
             }
            },
            "type": "scatterpolargl"
           }
          ],
          "scatterternary": [
           {
            "marker": {
             "colorbar": {
              "outlinewidth": 0,
              "ticks": ""
             }
            },
            "type": "scatterternary"
           }
          ],
          "surface": [
           {
            "colorbar": {
             "outlinewidth": 0,
             "ticks": ""
            },
            "colorscale": [
             [
              0,
              "#0d0887"
             ],
             [
              0.1111111111111111,
              "#46039f"
             ],
             [
              0.2222222222222222,
              "#7201a8"
             ],
             [
              0.3333333333333333,
              "#9c179e"
             ],
             [
              0.4444444444444444,
              "#bd3786"
             ],
             [
              0.5555555555555556,
              "#d8576b"
             ],
             [
              0.6666666666666666,
              "#ed7953"
             ],
             [
              0.7777777777777778,
              "#fb9f3a"
             ],
             [
              0.8888888888888888,
              "#fdca26"
             ],
             [
              1,
              "#f0f921"
             ]
            ],
            "type": "surface"
           }
          ],
          "table": [
           {
            "cells": {
             "fill": {
              "color": "#EBF0F8"
             },
             "line": {
              "color": "white"
             }
            },
            "header": {
             "fill": {
              "color": "#C8D4E3"
             },
             "line": {
              "color": "white"
             }
            },
            "type": "table"
           }
          ]
         },
         "layout": {
          "annotationdefaults": {
           "arrowcolor": "#2a3f5f",
           "arrowhead": 0,
           "arrowwidth": 1
          },
          "autotypenumbers": "strict",
          "coloraxis": {
           "colorbar": {
            "outlinewidth": 0,
            "ticks": ""
           }
          },
          "colorscale": {
           "diverging": [
            [
             0,
             "#8e0152"
            ],
            [
             0.1,
             "#c51b7d"
            ],
            [
             0.2,
             "#de77ae"
            ],
            [
             0.3,
             "#f1b6da"
            ],
            [
             0.4,
             "#fde0ef"
            ],
            [
             0.5,
             "#f7f7f7"
            ],
            [
             0.6,
             "#e6f5d0"
            ],
            [
             0.7,
             "#b8e186"
            ],
            [
             0.8,
             "#7fbc41"
            ],
            [
             0.9,
             "#4d9221"
            ],
            [
             1,
             "#276419"
            ]
           ],
           "sequential": [
            [
             0,
             "#0d0887"
            ],
            [
             0.1111111111111111,
             "#46039f"
            ],
            [
             0.2222222222222222,
             "#7201a8"
            ],
            [
             0.3333333333333333,
             "#9c179e"
            ],
            [
             0.4444444444444444,
             "#bd3786"
            ],
            [
             0.5555555555555556,
             "#d8576b"
            ],
            [
             0.6666666666666666,
             "#ed7953"
            ],
            [
             0.7777777777777778,
             "#fb9f3a"
            ],
            [
             0.8888888888888888,
             "#fdca26"
            ],
            [
             1,
             "#f0f921"
            ]
           ],
           "sequentialminus": [
            [
             0,
             "#0d0887"
            ],
            [
             0.1111111111111111,
             "#46039f"
            ],
            [
             0.2222222222222222,
             "#7201a8"
            ],
            [
             0.3333333333333333,
             "#9c179e"
            ],
            [
             0.4444444444444444,
             "#bd3786"
            ],
            [
             0.5555555555555556,
             "#d8576b"
            ],
            [
             0.6666666666666666,
             "#ed7953"
            ],
            [
             0.7777777777777778,
             "#fb9f3a"
            ],
            [
             0.8888888888888888,
             "#fdca26"
            ],
            [
             1,
             "#f0f921"
            ]
           ]
          },
          "colorway": [
           "#636efa",
           "#EF553B",
           "#00cc96",
           "#ab63fa",
           "#FFA15A",
           "#19d3f3",
           "#FF6692",
           "#B6E880",
           "#FF97FF",
           "#FECB52"
          ],
          "font": {
           "color": "#2a3f5f"
          },
          "geo": {
           "bgcolor": "white",
           "lakecolor": "white",
           "landcolor": "#E5ECF6",
           "showlakes": true,
           "showland": true,
           "subunitcolor": "white"
          },
          "hoverlabel": {
           "align": "left"
          },
          "hovermode": "closest",
          "mapbox": {
           "style": "light"
          },
          "paper_bgcolor": "white",
          "plot_bgcolor": "#E5ECF6",
          "polar": {
           "angularaxis": {
            "gridcolor": "white",
            "linecolor": "white",
            "ticks": ""
           },
           "bgcolor": "#E5ECF6",
           "radialaxis": {
            "gridcolor": "white",
            "linecolor": "white",
            "ticks": ""
           }
          },
          "scene": {
           "xaxis": {
            "backgroundcolor": "#E5ECF6",
            "gridcolor": "white",
            "gridwidth": 2,
            "linecolor": "white",
            "showbackground": true,
            "ticks": "",
            "zerolinecolor": "white"
           },
           "yaxis": {
            "backgroundcolor": "#E5ECF6",
            "gridcolor": "white",
            "gridwidth": 2,
            "linecolor": "white",
            "showbackground": true,
            "ticks": "",
            "zerolinecolor": "white"
           },
           "zaxis": {
            "backgroundcolor": "#E5ECF6",
            "gridcolor": "white",
            "gridwidth": 2,
            "linecolor": "white",
            "showbackground": true,
            "ticks": "",
            "zerolinecolor": "white"
           }
          },
          "shapedefaults": {
           "line": {
            "color": "#2a3f5f"
           }
          },
          "ternary": {
           "aaxis": {
            "gridcolor": "white",
            "linecolor": "white",
            "ticks": ""
           },
           "baxis": {
            "gridcolor": "white",
            "linecolor": "white",
            "ticks": ""
           },
           "bgcolor": "#E5ECF6",
           "caxis": {
            "gridcolor": "white",
            "linecolor": "white",
            "ticks": ""
           }
          },
          "title": {
           "x": 0.05
          },
          "xaxis": {
           "automargin": true,
           "gridcolor": "white",
           "linecolor": "white",
           "ticks": "",
           "title": {
            "standoff": 15
           },
           "zerolinecolor": "white",
           "zerolinewidth": 2
          },
          "yaxis": {
           "automargin": true,
           "gridcolor": "white",
           "linecolor": "white",
           "ticks": "",
           "title": {
            "standoff": 15
           },
           "zerolinecolor": "white",
           "zerolinewidth": 2
          }
         }
        },
        "title": {
         "text": "Rede de Projetos de Pesquisa: Professores e Áreas"
        }
       }
      },
      "image/png": "[encoded data removed]"
     },
     "metadata": {},
     "output_type": "display_data"
    }
   ],
   "source": [
    "# -*- coding: utf-8 -*-\n",
    "\"\"\"\n",
    "Created on Fri May 30 18:56:20 2025\n",
    "\n",
    "@author: srsouza\n",
    "\"\"\"\n",
    "\n",
    "import plotly.graph_objects as go\n",
    "import networkx as nx\n",
    "\n",
    "# Dados: Professores, suas áreas de pesquisa e os projetos desenvolvidos\n",
    "# Cada projeto está associado a um professor e suas respectivas áreas.\n",
    "\n",
    "professores = ['Dr. Ana Silva', 'Dr. Bruno Costa', 'Dra. Clara Dantas', 'Dr. Diego Fernandes', 'Dra. Erika Souza']\n",
    "areas_pesquisa = ['Inteligência Artificial', 'Processamento de Sinais', 'Machine Learning', 'Visão Computacional', 'Robótica']\n",
    "\n",
    "# Relações: Projetos de pesquisa conectando professores e áreas\n",
    "# (professor, área de pesquisa)\n",
    "projetos = [\n",
    "    ('Dr. Ana Silva', 'Inteligência Artificial'),\n",
    "    ('Dr. Ana Silva', 'Machine Learning'),\n",
    "    ('Dr. Bruno Costa', 'Processamento de Sinais'),\n",
    "    ('Dr. Bruno Costa', 'Robótica'),\n",
    "    ('Dra. Clara Dantas', 'Inteligência Artificial'),\n",
    "    ('Dra. Clara Dantas', 'Visão Computacional'),\n",
    "    ('Dr. Diego Fernandes', 'Machine Learning'),\n",
    "    ('Dr. Diego Fernandes', 'Processamento de Sinais'),\n",
    "    ('Dra. Erika Souza', 'Robótica'),\n",
    "    ('Dra. Erika Souza', 'Visão Computacional'),\n",
    "    ('Dra. Erika Souza', 'Inteligência Artificial')\n",
    "]\n",
    "\n",
    "# Criar grafo bipartido\n",
    "G = nx.Graph()\n",
    "G.add_nodes_from(professores, bipartite=0)\n",
    "G.add_nodes_from(areas_pesquisa, bipartite=1)\n",
    "G.add_edges_from(projetos)\n",
    "\n",
    "# Definindo variáveis para as áreas de pesquisa\n",
    "# (eixo X: Inovação da Área, eixo Y: Relevância no Mercado, eixo Z: Número de Publicações Recentes)\n",
    "area_dados = {\n",
    "    'Inteligência Artificial': [8, 9, 12],\n",
    "    'Processamento de Sinais': [5, 6, 7],\n",
    "    'Machine Learning': [9, 8, 10],\n",
    "    'Visão Computacional': [7, 7, 8],\n",
    "    'Robótica': [6, 5, 6]\n",
    "}\n",
    "\n",
    "# Posicionamento dos nós\n",
    "pos = {}\n",
    "\n",
    "# Professores: organizados no plano z = 0, com X e Y distribuídos linearmente\n",
    "for i, prof in enumerate(professores):\n",
    "    pos[prof] = [i * 2, 0, 0] # Distribuindo-os ao longo do eixo X\n",
    "\n",
    "# Áreas de pesquisa: posicionadas de acordo com as variáveis definidas\n",
    "for area, dados in area_dados.items():\n",
    "    complexidade, carga_horaria, semestre = dados # Reutilizando as variáveis para clareza\n",
    "    pos[area] = [complexidade, carga_horaria, semestre]\n",
    "\n",
    "# Coordenadas das arestas\n",
    "edge_x, edge_y, edge_z = [], [], []\n",
    "for edge in G.edges():\n",
    "    x0, y0, z0 = pos[edge[0]]\n",
    "    x1, y1, z1 = pos[edge[1]]\n",
    "    edge_x += [x0, x1, None]\n",
    "    edge_y += [y0, y1, None]\n",
    "    edge_z += [z0, z1, None]\n",
    "\n",
    "edge_trace = go.Scatter3d(\n",
    "    x=edge_x,\n",
    "    y=edge_y,\n",
    "    z=edge_z,\n",
    "    mode='lines',\n",
    "    line=dict(color='gray', width=2),\n",
    "    hoverinfo='none'\n",
    ")\n",
    "\n",
    "# Nós dos professores\n",
    "prof_x = [pos[p][0] for p in professores]\n",
    "prof_y = [pos[p][1] for p in professores]\n",
    "prof_z = [pos[p][2] for p in professores]\n",
    "\n",
    "prof_trace = go.Scatter3d(\n",
    "    x=prof_x,\n",
    "    y=prof_y,\n",
    "    z=prof_z,\n",
    "    mode='markers+text',\n",
    "    marker=dict(size=8, color='darkblue'),\n",
    "    text=professores,\n",
    "    textposition=\"top center\"\n",
    ")\n",
    "\n",
    "# Nós das áreas de pesquisa\n",
    "area_x = [pos[a][0] for a in areas_pesquisa]\n",
    "area_y = [pos[a][1] for a in areas_pesquisa]\n",
    "area_z = [pos[a][2] for a in areas_pesquisa]\n",
    "\n",
    "area_trace = go.Scatter3d(\n",
    "    x=area_x,\n",
    "    y=area_y,\n",
    "    z=area_z,\n",
    "    mode='markers+text',\n",
    "    marker=dict(size=8, color='darkgreen'),\n",
    "    text=areas_pesquisa,\n",
    "    textposition=\"top center\"\n",
    ")\n",
    "\n",
    "# Montar a figura\n",
    "fig = go.Figure(data=[edge_trace, prof_trace, area_trace],\n",
    "                layout=go.Layout(\n",
    "                    title='Rede de Projetos de Pesquisa: Professores e Áreas',\n",
    "                    showlegend=False,\n",
    "                    margin=dict(l=0, r=0, b=0, t=50),\n",
    "                    scene=dict(\n",
    "                        xaxis=dict(title='Nível de Inovação da Área', showbackground=True),\n",
    "                        yaxis=dict(title='Relevância no Mercado', showbackground=True),\n",
    "                        zaxis=dict(title='Número de Publicações Recentes', showbackground=True),\n",
    "                        aspectmode='cube'\n",
    "                    )\n",
    "                ))\n",
    "\n",
    "fig.show()\n",
    "\n",
    "# Exportar como html\n",
    "fig.write_html(\"grafo_3d_professores_areas_pesquisa.html\")"
   ]
  },
  {
   "cell_type": "markdown",
   "id": "33c61241-da7a-42ba-8d28-b679fc4998db",
   "metadata": {},
   "source": [
    "## Análise"
   ]
  },
  {
   "cell_type": "markdown",
   "id": "8e910be5-6067-4547-9dea-dd6dae0fd2fa",
   "metadata": {},
   "source": [
    "A análise da estrutura do grafo de projetos de pesquisa entre professores e áreas revela alguns aspectos importantes.\n",
    "\n",
    "Observa-se que a professora como \"Dra. Erika Souza\" apresenta múltiplas conexões com diferentes áreas de pesquisa, indicando uma atuação interdisciplinar ou um envolvimento em projetos que abrangem diversos domínios. Em contrapartida, outros professores podem ter um foco mais direcionado a uma ou duas áreas específicas.\n",
    "\n",
    "Quanto aos agrupamentos, percebe-se que as áreas de \"Inteligência Artificial\" tende a agrupar mais professores, sugerindo que esta é uma área de grande interesse e atividade na pesquisa. Isso pode ser inferido pela quantidade de arestas (projetos) que se conectam a esses nós de área.\n",
    "\n",
    "Em relação aos padrões, a distribuição dos nós das áreas de pesquisa no espaço tridimensional permite identificar tendências. Áreas com altos valores para \"Nível de Inovação da Área\", \"Relevância no Mercado\" e \"Número de Publicações Recentes\" se posicionam mais distantes da origem, indicando maior dinamismo e produtividade. Por exemplo, \"Inteligência Artificial\" e \"Machine Learning\" estão mais afastadas, enquanto \"Robótica\" e \"Processamento de Sinais\" podem se agrupar mais próximas, dependendo de seus valores nessas dimensões. Essa visualização em 3D, portanto, permite identificar as áreas de pesquisa que são mais ativas e relevantes em múltiplas perspectivas."
   ]
  },
  {
   "cell_type": "code",
   "execution_count": null,
   "id": "f12e107e-92d7-4c09-a113-d1ec717612ad",
   "metadata": {},
   "outputs": [],
   "source": []
  }
 ],
 "metadata": {
  "kernelspec": {
   "display_name": "Python 3 (ipykernel)",
   "language": "python",
   "name": "python3"
  },
  "language_info": {
   "codemirror_mode": {
    "name": "ipython",
    "version": 3
   },
   "file_extension": ".py",
   "mimetype": "text/x-python",
   "name": "python",
   "nbconvert_exporter": "python",
   "pygments_lexer": "ipython3",
   "version": "3.13.3"
  }
 },
 "nbformat": 4,
 "nbformat_minor": 5
}
