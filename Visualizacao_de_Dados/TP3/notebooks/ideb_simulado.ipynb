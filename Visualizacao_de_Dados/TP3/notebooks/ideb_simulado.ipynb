{
 "cells": [
  {
   "cell_type": "markdown",
   "id": "47aeb1ec-6488-4020-945d-ee3840b70647",
   "metadata": {},
   "source": [
    "# TP3\n",
    "\n",
    "Autor: Sandro Ricardo de Souza\n",
    "Professor: Richard"
   ]
  },
  {
   "cell_type": "markdown",
   "id": "b854a0a1-bd62-4c13-9371-f3f79ded722c",
   "metadata": {},
   "source": [
    "## TP3 - Item 1 - Ideb simulados \n",
    " \n",
    "Desenvolver um algoritmo para exibição de gráficos coropléticos dos municípios do Espírito Santo (ES), utilizando dados simulados de IDEB.\n",
    "\n",
    "1. Geração do Conjunto de Dados IDEB Simulado:\n",
    "    * Criar um conjunto de dados de IDEB simulado para os municípios do Espírito Santo, gerando valores aleatórios entre 3.0 e 7.0.\n",
    "    * O DataFrame gerado deve conter:\n",
    "        - o cod_mun (código do município),\n",
    "        - o ideb_ano (valor simulado do IDEB)\n",
    "    *  Motrar o código imprimindo as 5 primeiras linhas da tabela"
   ]
  },
  {
   "cell_type": "markdown",
   "id": "7e2ead56-9c98-4797-8109-ed5156e6dd75",
   "metadata": {},
   "source": [
    "### Imports"
   ]
  },
  {
   "cell_type": "code",
   "execution_count": 2,
   "id": "a7678949-7281-4bee-93b0-0aa823f50e7e",
   "metadata": {},
   "outputs": [],
   "source": [
    "import pandas as pd\n",
    "import numpy as np\n",
    "import random\n",
    "import os"
   ]
  },
  {
   "cell_type": "markdown",
   "id": "6cb8a5f9-2a87-42d9-a79e-4b0b89c47376",
   "metadata": {},
   "source": [
    "### Leitura dos nomes e códigos dos municípios do Espírito Santo"
   ]
  },
  {
   "cell_type": "code",
   "execution_count": 3,
   "id": "315a1979-5566-4fcb-8c36-51dcfc88db77",
   "metadata": {},
   "outputs": [],
   "source": [
    "path_municipios = r'../../../datasets/nomes_codigos_municipios_ES.xlsx'\n",
    "municipios = pd.read_excel(path_municipios)"
   ]
  },
  {
   "cell_type": "code",
   "execution_count": 4,
   "id": "1720a6f8-5b9b-4469-b420-49f672c53289",
   "metadata": {},
   "outputs": [
    {
     "data": {
      "text/html": [
       "<div>\n",
       "<style scoped>\n",
       "    .dataframe tbody tr th:only-of-type {\n",
       "        vertical-align: middle;\n",
       "    }\n",
       "\n",
       "    .dataframe tbody tr th {\n",
       "        vertical-align: top;\n",
       "    }\n",
       "\n",
       "    .dataframe thead th {\n",
       "        text-align: right;\n",
       "    }\n",
       "</style>\n",
       "<table border=\"1\" class=\"dataframe\">\n",
       "  <thead>\n",
       "    <tr style=\"text-align: right;\">\n",
       "      <th></th>\n",
       "      <th>codigo_municipío</th>\n",
       "      <th>nome_municipio</th>\n",
       "    </tr>\n",
       "  </thead>\n",
       "  <tbody>\n",
       "    <tr>\n",
       "      <th>0</th>\n",
       "      <td>3200102</td>\n",
       "      <td>Afonso Cláudio</td>\n",
       "    </tr>\n",
       "    <tr>\n",
       "      <th>1</th>\n",
       "      <td>3200169</td>\n",
       "      <td>Água Doce do Norte</td>\n",
       "    </tr>\n",
       "    <tr>\n",
       "      <th>2</th>\n",
       "      <td>3200136</td>\n",
       "      <td>Águia Branca</td>\n",
       "    </tr>\n",
       "    <tr>\n",
       "      <th>3</th>\n",
       "      <td>3200201</td>\n",
       "      <td>Alegre</td>\n",
       "    </tr>\n",
       "    <tr>\n",
       "      <th>4</th>\n",
       "      <td>3200300</td>\n",
       "      <td>Alfredo Chaves</td>\n",
       "    </tr>\n",
       "  </tbody>\n",
       "</table>\n",
       "</div>"
      ],
      "text/plain": [
       "   codigo_municipío      nome_municipio\n",
       "0           3200102      Afonso Cláudio\n",
       "1           3200169  Água Doce do Norte\n",
       "2           3200136        Águia Branca\n",
       "3           3200201              Alegre\n",
       "4           3200300      Alfredo Chaves"
      ]
     },
     "execution_count": 4,
     "metadata": {},
     "output_type": "execute_result"
    }
   ],
   "source": [
    "municipios.head()"
   ]
  },
  {
   "cell_type": "markdown",
   "id": "53dfd1b8-351a-4389-8b58-58bb087517fc",
   "metadata": {},
   "source": [
    "### Geração de dados simulados do IDEB\n",
    "\n",
    "Geração de dados simulados com o índice do ideb de cada municípo. Após a criação dos índices simulados, estes serão incluidos no base "
   ]
  },
  {
   "cell_type": "code",
   "execution_count": 7,
   "id": "c01add19-046c-4d8c-81ef-e78ef2df789c",
   "metadata": {},
   "outputs": [
    {
     "data": {
      "text/html": [
       "<div>\n",
       "<style scoped>\n",
       "    .dataframe tbody tr th:only-of-type {\n",
       "        vertical-align: middle;\n",
       "    }\n",
       "\n",
       "    .dataframe tbody tr th {\n",
       "        vertical-align: top;\n",
       "    }\n",
       "\n",
       "    .dataframe thead th {\n",
       "        text-align: right;\n",
       "    }\n",
       "</style>\n",
       "<table border=\"1\" class=\"dataframe\">\n",
       "  <thead>\n",
       "    <tr style=\"text-align: right;\">\n",
       "      <th></th>\n",
       "      <th>codigo_municipío</th>\n",
       "      <th>nome_municipio</th>\n",
       "      <th>ideb</th>\n",
       "    </tr>\n",
       "  </thead>\n",
       "  <tbody>\n",
       "    <tr>\n",
       "      <th>0</th>\n",
       "      <td>3200102</td>\n",
       "      <td>Afonso Cláudio</td>\n",
       "      <td>5.0</td>\n",
       "    </tr>\n",
       "    <tr>\n",
       "      <th>1</th>\n",
       "      <td>3200169</td>\n",
       "      <td>Água Doce do Norte</td>\n",
       "      <td>5.4</td>\n",
       "    </tr>\n",
       "    <tr>\n",
       "      <th>2</th>\n",
       "      <td>3200136</td>\n",
       "      <td>Águia Branca</td>\n",
       "      <td>6.2</td>\n",
       "    </tr>\n",
       "    <tr>\n",
       "      <th>3</th>\n",
       "      <td>3200201</td>\n",
       "      <td>Alegre</td>\n",
       "      <td>4.6</td>\n",
       "    </tr>\n",
       "    <tr>\n",
       "      <th>4</th>\n",
       "      <td>3200300</td>\n",
       "      <td>Alfredo Chaves</td>\n",
       "      <td>4.7</td>\n",
       "    </tr>\n",
       "    <tr>\n",
       "      <th>...</th>\n",
       "      <td>...</td>\n",
       "      <td>...</td>\n",
       "      <td>...</td>\n",
       "    </tr>\n",
       "    <tr>\n",
       "      <th>73</th>\n",
       "      <td>3205101</td>\n",
       "      <td>Viana</td>\n",
       "      <td>5.7</td>\n",
       "    </tr>\n",
       "    <tr>\n",
       "      <th>74</th>\n",
       "      <td>3205150</td>\n",
       "      <td>Vila Pavão</td>\n",
       "      <td>4.0</td>\n",
       "    </tr>\n",
       "    <tr>\n",
       "      <th>75</th>\n",
       "      <td>3205176</td>\n",
       "      <td>Vila Valério</td>\n",
       "      <td>4.1</td>\n",
       "    </tr>\n",
       "    <tr>\n",
       "      <th>76</th>\n",
       "      <td>3205200</td>\n",
       "      <td>Vila Velha</td>\n",
       "      <td>6.5</td>\n",
       "    </tr>\n",
       "    <tr>\n",
       "      <th>77</th>\n",
       "      <td>3205309</td>\n",
       "      <td>Vitória</td>\n",
       "      <td>4.8</td>\n",
       "    </tr>\n",
       "  </tbody>\n",
       "</table>\n",
       "<p>78 rows × 3 columns</p>\n",
       "</div>"
      ],
      "text/plain": [
       "    codigo_municipío      nome_municipio  ideb\n",
       "0            3200102      Afonso Cláudio   5.0\n",
       "1            3200169  Água Doce do Norte   5.4\n",
       "2            3200136        Águia Branca   6.2\n",
       "3            3200201              Alegre   4.6\n",
       "4            3200300      Alfredo Chaves   4.7\n",
       "..               ...                 ...   ...\n",
       "73           3205101               Viana   5.7\n",
       "74           3205150          Vila Pavão   4.0\n",
       "75           3205176        Vila Valério   4.1\n",
       "76           3205200          Vila Velha   6.5\n",
       "77           3205309             Vitória   4.8\n",
       "\n",
       "[78 rows x 3 columns]"
      ]
     },
     "execution_count": 7,
     "metadata": {},
     "output_type": "execute_result"
    }
   ],
   "source": [
    "ideb = [round(random.uniform(3.0, 7.0), 1) for _ in range(len(municipios))]\n",
    "municipios['ideb'] = ideb\n",
    "municipios"
   ]
  },
  {
   "cell_type": "markdown",
   "id": "5ae69eb5-1434-46da-85ac-f90d40595701",
   "metadata": {},
   "source": [
    "## TP3 - Item 2 - Mapa Coroplético \n",
    "\n",
    "Gerar um mapa coroplético dos municípios do Espírito Santo, com os valores médios do IDEB de cada município."
   ]
  },
  {
   "cell_type": "markdown",
   "id": "9266ff90-c158-4558-9a0b-f738c6e9c7d5",
   "metadata": {},
   "source": [
    "### Leitura dos dados geoprocessados"
   ]
  },
  {
   "cell_type": "markdown",
   "id": "c5c3c6db-1536-48a2-972c-9fe581c38e01",
   "metadata": {},
   "source": [
    "### Mesclar os dados com as geometrias e os dados simulados do IDEB"
   ]
  },
  {
   "cell_type": "markdown",
   "id": "1c14e2aa-7e3d-4300-b18a-6d4d1146fca7",
   "metadata": {},
   "source": [
    "### Plotar o gráfico"
   ]
  },
  {
   "cell_type": "markdown",
   "id": "0da7c863-a765-4f33-811c-599121959132",
   "metadata": {},
   "source": [
    "### Interpretação dos resultados"
   ]
  },
  {
   "cell_type": "code",
   "execution_count": null,
   "id": "4cac57d2-ecd2-4153-8f0d-6e58aec97032",
   "metadata": {},
   "outputs": [],
   "source": []
  }
 ],
 "metadata": {
  "kernelspec": {
   "display_name": "Python 3 (ipykernel)",
   "language": "python",
   "name": "python3"
  },
  "language_info": {
   "codemirror_mode": {
    "name": "ipython",
    "version": 3
   },
   "file_extension": ".py",
   "mimetype": "text/x-python",
   "name": "python",
   "nbconvert_exporter": "python",
   "pygments_lexer": "ipython3",
   "version": "3.12.7"
  }
 },
 "nbformat": 4,
 "nbformat_minor": 5
}
