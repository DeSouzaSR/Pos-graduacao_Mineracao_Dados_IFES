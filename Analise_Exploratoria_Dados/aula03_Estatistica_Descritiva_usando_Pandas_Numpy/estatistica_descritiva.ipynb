{
 "cells": [
  {
   "cell_type": "markdown",
   "id": "865d90c2-d8c9-4e75-9023-1222de670b27",
   "metadata": {},
   "source": [
    "# Estatística descritiva\n",
    "\n",
    "O objetivo deste notebook é fazer uma revisão de estatísica descritiva, comparando comandos criados pelo usuário e das bibliotecas Numpy e Pandas. As atividades foram propostas na aula 3 da disciplina de Análise Exploratória de Dados do curso de Mineração de Dados do IFES - SERRA"
   ]
  },
  {
   "cell_type": "markdown",
   "id": "d4464fc7-ed95-4438-9753-9f0cd3697e35",
   "metadata": {},
   "source": [
    "## Importando os arquivos"
   ]
  },
  {
   "cell_type": "code",
   "execution_count": 39,
   "id": "e1d42e5c-f190-4a60-9690-1236b91334e5",
   "metadata": {},
   "outputs": [],
   "source": [
    "import numpy as np\n",
    "import pandas as pd\n",
    "import statistics as st\n",
    "from collections import Counter"
   ]
  },
  {
   "cell_type": "markdown",
   "id": "2c520482-89d6-4b6e-906b-93253790d4f0",
   "metadata": {},
   "source": [
    "## Média aritmética"
   ]
  },
  {
   "cell_type": "markdown",
   "id": "d33c72ff-be62-4eb9-83a6-b79b1559589b",
   "metadata": {},
   "source": [
    "A partir das notas do aluno, calcular a média artimética"
   ]
  },
  {
   "cell_type": "code",
   "execution_count": 40,
   "id": "cc751bdc-da52-424a-985f-44cfcf4564da",
   "metadata": {},
   "outputs": [
    {
     "name": "stdout",
     "output_type": "stream",
     "text": [
      "Notas:  [9.5, 7.2, 4.1, 8.9, 10.0]\n"
     ]
    }
   ],
   "source": [
    "notas_alunos = [9.5, 7.2, 4.1, 8.9, 10.0]\n",
    "print('Notas: ', notas_alunos)"
   ]
  },
  {
   "cell_type": "markdown",
   "id": "d4a28606-6257-4bd4-9125-43b8ced04f11",
   "metadata": {},
   "source": [
    "### Cálculo da média aritmética "
   ]
  },
  {
   "cell_type": "code",
   "execution_count": 41,
   "id": "e1a33232-63e1-4a37-a3c0-ffe0b2719fab",
   "metadata": {},
   "outputs": [
    {
     "name": "stdout",
     "output_type": "stream",
     "text": [
      "média usando definição: 7.9\n"
     ]
    }
   ],
   "source": [
    "media_aritmetica = sum(notas_alunos) / len(notas_alunos)\n",
    "print(f'média usando definição: {media_aritmetica:0.1f}')"
   ]
  },
  {
   "cell_type": "markdown",
   "id": "9ebecb1f-fce0-49b1-861a-8eecf74c86dc",
   "metadata": {},
   "source": [
    "### Cálculo da média aritmética usando o Numpy"
   ]
  },
  {
   "cell_type": "code",
   "execution_count": 42,
   "id": "723d1294-4de6-4bbd-9da3-1080db95ddd1",
   "metadata": {},
   "outputs": [
    {
     "name": "stdout",
     "output_type": "stream",
     "text": [
      "média usando numpy: 7.9\n"
     ]
    }
   ],
   "source": [
    "media_aritmetica_numpy = np.mean(notas_alunos)\n",
    "print(f'média usando numpy: {media_aritmetica_numpy:0.1f}')"
   ]
  },
  {
   "cell_type": "markdown",
   "id": "2cf07fba-48a8-4023-adca-5f8e325a2e15",
   "metadata": {},
   "source": [
    "### Cálculo da média aritmética usando Pandas"
   ]
  },
  {
   "cell_type": "code",
   "execution_count": 43,
   "id": "bbf0a4c2-185d-4212-98f1-72d99754946c",
   "metadata": {},
   "outputs": [
    {
     "name": "stdout",
     "output_type": "stream",
     "text": [
      "média usando pandas: 7.9\n"
     ]
    }
   ],
   "source": [
    "df = pd.DataFrame({'notas': notas_alunos})\n",
    "media_aritmetica_pandas = df['notas'].mean()\n",
    "print(f'média usando pandas: {media_aritmetica_pandas:0.1f}')"
   ]
  },
  {
   "cell_type": "markdown",
   "id": "4e76ace1-cb66-4899-90a4-4e0f8b06966c",
   "metadata": {},
   "source": [
    "## Média ponderada\n",
    "\n",
    "Cálculo das média ponderada a partir das notas e dos pesos"
   ]
  },
  {
   "cell_type": "code",
   "execution_count": 44,
   "id": "453980cd-ba5f-4249-a34a-7d2d46b30cd3",
   "metadata": {},
   "outputs": [],
   "source": [
    "notas_alunos = [9.5, 7.2, 4.1, 8.9, 10.0]\n",
    "pesos = [0.1, 0.2, 0.2, 0.3, 0.2]"
   ]
  },
  {
   "cell_type": "markdown",
   "id": "4ceff025-78ec-4eca-b493-d9aa43660d32",
   "metadata": {},
   "source": [
    "### Cálculo da média ponderada usando a definição"
   ]
  },
  {
   "cell_type": "code",
   "execution_count": 45,
   "id": "62ced7f6-be0d-4d4d-82fb-bb1323b9b568",
   "metadata": {},
   "outputs": [
    {
     "name": "stdout",
     "output_type": "stream",
     "text": [
      "Média ponderada:  7.9\n"
     ]
    }
   ],
   "source": [
    "media_ponderada = 0\n",
    "for nota, peso in zip(notas_alunos, pesos):\n",
    "    media_ponderada += nota * peso\n",
    "\n",
    "media_ponderada = media_ponderada / sum(pesos)\n",
    "print(f'Média ponderada: {media_ponderada: .1f}')"
   ]
  },
  {
   "cell_type": "markdown",
   "id": "6a0b2ada-7317-423c-8a63-732290af4ea6",
   "metadata": {},
   "source": [
    "### Cálculo da média ponderada usando Numpy"
   ]
  },
  {
   "cell_type": "code",
   "execution_count": 46,
   "id": "a5bd5c94-3410-4987-98c7-3071ad8e285d",
   "metadata": {},
   "outputs": [
    {
     "name": "stdout",
     "output_type": "stream",
     "text": [
      "Média ponderada numpy:  7.9\n"
     ]
    }
   ],
   "source": [
    "media_ponderada_numpy = np.average(notas_alunos, weights=pesos)\n",
    "print(f'Média ponderada numpy: {media_ponderada_numpy: .1f}')"
   ]
  },
  {
   "cell_type": "markdown",
   "id": "88a86d15-1b0c-43c9-8a8e-3de047b0afd1",
   "metadata": {},
   "source": [
    "## Moda\n",
    "\n",
    "Cálculo da moda do novo conjunto de notas de alunos"
   ]
  },
  {
   "cell_type": "code",
   "execution_count": 47,
   "id": "a4dae85e-43eb-44f2-be35-a2bcfdd80c87",
   "metadata": {},
   "outputs": [],
   "source": [
    "notas_alunos = [9.5, 7.2, 4.1, 8.9, 10.0, 4.1, 8.5, 6.3, 9.0, 4.1, 8.5, 8.5]"
   ]
  },
  {
   "cell_type": "markdown",
   "id": "f77936b7-547e-41ae-bda9-1c8184c37bde",
   "metadata": {},
   "source": [
    "### Cálculo da moda usando a definição"
   ]
  },
  {
   "cell_type": "code",
   "execution_count": 48,
   "id": "15939fce-da6a-4e80-a40e-70963a0265f9",
   "metadata": {},
   "outputs": [
    {
     "name": "stdout",
     "output_type": "stream",
     "text": [
      "\n",
      "Moda: [(4.1, 3), (8.5, 3), (9.5, 1), (7.2, 1), (8.9, 1), (10.0, 1), (6.3, 1), (9.0, 1)]\n"
     ]
    }
   ],
   "source": [
    "c = Counter(notas_alunos)\n",
    "moda = c.most_common()\n",
    "print(f'\\nModa: {moda}')"
   ]
  },
  {
   "cell_type": "markdown",
   "id": "3d40a8e4-5844-4089-ae9b-f4ffd99281f7",
   "metadata": {},
   "source": [
    "Ou seja, os valores `4.1` e `8.5` são os mais frequentes. O médito Counter devolve a contagem de todos os valores"
   ]
  },
  {
   "cell_type": "markdown",
   "id": "dc2cf7f7-2dd9-45a2-9f60-5ace2d81391e",
   "metadata": {},
   "source": [
    "### Cálculo da moda usando Pandas"
   ]
  },
  {
   "cell_type": "code",
   "execution_count": 49,
   "id": "57f16bd6-a30e-4f77-b0fd-999c8c2d2768",
   "metadata": {},
   "outputs": [
    {
     "data": {
      "text/plain": [
       "0    4.1\n",
       "1    8.5\n",
       "Name: notas, dtype: float64"
      ]
     },
     "execution_count": 49,
     "metadata": {},
     "output_type": "execute_result"
    }
   ],
   "source": [
    "df = pd.DataFrame({'notas': notas_alunos})\n",
    "moda = df['notas'].mode()\n",
    "moda"
   ]
  },
  {
   "cell_type": "markdown",
   "id": "d60bf02f-9fd1-40b7-a9ae-29314a46b0ee",
   "metadata": {},
   "source": [
    "### Cálculo da moda usando Statistics"
   ]
  },
  {
   "cell_type": "code",
   "execution_count": 50,
   "id": "877ee6e2-46e6-4957-a21f-2ac395e8e35f",
   "metadata": {},
   "outputs": [
    {
     "name": "stdout",
     "output_type": "stream",
     "text": [
      "\n",
      "Moda: 4.1\n"
     ]
    }
   ],
   "source": [
    "moda = st.mode(notas_alunos)\n",
    "print(f'\\nModa: {moda}')"
   ]
  },
  {
   "cell_type": "markdown",
   "id": "5861237b-1796-4176-a31f-45b0f498c70a",
   "metadata": {},
   "source": [
    "## Mediana\n",
    "\n",
    "Cálculo da mediana usando os novos dados de alunos"
   ]
  },
  {
   "cell_type": "code",
   "execution_count": 51,
   "id": "ceab27ff-f9e0-4955-8829-a3fa784b906b",
   "metadata": {},
   "outputs": [],
   "source": [
    "notas_alunos = [9.5, 7.2, 4.1, 8.9, 10.0, 4.1, 8.5, 6.3, 9.0,\n",
    "                4.1, 8.5]"
   ]
  },
  {
   "cell_type": "markdown",
   "id": "275ce5fa-4b16-4a78-a9c4-3a6e0ad3e537",
   "metadata": {},
   "source": [
    "### Cálculo da mediana usando numpy"
   ]
  },
  {
   "cell_type": "code",
   "execution_count": 52,
   "id": "a9e4eae1-dcc9-4751-95e2-8fb861bcfcfa",
   "metadata": {},
   "outputs": [
    {
     "name": "stdout",
     "output_type": "stream",
     "text": [
      "Mediana usando numpy: 8.5\n"
     ]
    }
   ],
   "source": [
    "mediana = np.median(notas_alunos)\n",
    "print(f'Mediana usando numpy: {mediana:0.1f}')"
   ]
  },
  {
   "cell_type": "markdown",
   "id": "e3d47306-f4a7-470a-822c-9ac75f5f1341",
   "metadata": {},
   "source": [
    "## Amplitude\n",
    "\n",
    "Cáluclo da amplitude da uma lista de notas. A amplitude é a diferença entre os valores maiores e menores. No cálculo da amplitude, vamos usar o métido ptp do Numpy"
   ]
  },
  {
   "cell_type": "code",
   "execution_count": 53,
   "id": "0d28940c-f3f1-43e7-b06d-d576a8b42706",
   "metadata": {},
   "outputs": [
    {
     "name": "stdout",
     "output_type": "stream",
     "text": [
      "Amplitude: 5.90\n"
     ]
    }
   ],
   "source": [
    "notas_alunos = [9.5, 7.2, 4.1, 8.9, 10.0, 4.1, 8.5, 6.3, 9.0, 4.1, 8.5]\n",
    "amplitude = np.ptp(notas_alunos)\n",
    "print(f'Amplitude: {amplitude:0.2f}')"
   ]
  },
  {
   "cell_type": "markdown",
   "id": "111f15a3-ca6c-4e27-a675-879bdcce2564",
   "metadata": {},
   "source": [
    "## Variância e desvio padrão"
   ]
  },
  {
   "cell_type": "code",
   "execution_count": 54,
   "id": "e8d2cc36-5ec4-4878-a68a-f86eb0807178",
   "metadata": {},
   "outputs": [
    {
     "name": "stdout",
     "output_type": "stream",
     "text": [
      "Variância:  5.2\n",
      "Desvio Padrão:  2.3\n"
     ]
    }
   ],
   "source": [
    "notas_alunos = [9.5, 7.2, 4.1, 8.9, 10.0, 4.1, 8.5, 6.3, 9.0, 4.1, 8.5]\n",
    "\n",
    "variancia = np.var(notas_alunos, ddof=1)\n",
    "desvio_padrao = np.std(notas_alunos, ddof=1)\n",
    "\n",
    "print(f'Variância: {variancia: .1f}')\n",
    "print(f'Desvio Padrão: {desvio_padrao: .1f}')"
   ]
  }
 ],
 "metadata": {
  "kernelspec": {
   "display_name": "Python 3 (ipykernel)",
   "language": "python",
   "name": "python3"
  },
  "language_info": {
   "codemirror_mode": {
    "name": "ipython",
    "version": 3
   },
   "file_extension": ".py",
   "mimetype": "text/x-python",
   "name": "python",
   "nbconvert_exporter": "python",
   "pygments_lexer": "ipython3",
   "version": "3.8.10"
  }
 },
 "nbformat": 4,
 "nbformat_minor": 5
}
