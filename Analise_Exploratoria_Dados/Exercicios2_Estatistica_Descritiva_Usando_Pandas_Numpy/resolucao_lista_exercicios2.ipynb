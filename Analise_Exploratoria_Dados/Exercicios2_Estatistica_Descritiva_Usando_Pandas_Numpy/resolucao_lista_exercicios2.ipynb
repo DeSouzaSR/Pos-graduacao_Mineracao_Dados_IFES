{
 "cells": [
  {
   "cell_type": "markdown",
   "id": "bffdf3f6-6fff-4276-97cf-552d9e71ec7d",
   "metadata": {},
   "source": [
    "# Resolução da lista de exercícios 2\n",
    "\n",
    "Lista: 'Lista de Exercícios 2 – Estatística Descritiva Usando Pandas e Numpy.pdf'"
   ]
  },
  {
   "cell_type": "markdown",
   "id": "10101ae1-99a4-45ae-b4d8-3575b6f22154",
   "metadata": {},
   "source": [
    "# Questão 1\n",
    "Pesquisadores coletaram dados para examinar a relação entre o desempenho acadêmico de alunos do ensino fundamental e médio e suas condições socioeconômicas, bem como as condições das escolas em que estudam, em várias regiões do Brasil. Durante o estudo, o desempenho acadêmico foi medido através das notas médias dos alunos em disciplinas como Matemática, Português e Ciências. As condições socioeconômicas foram avaliadas com base na renda familiar, nível de escolaridade dos pais, acesso a recursos educacionais além da escola, entre outros. As condições das escolas foram analisadas com base na infraestrutura, disponibilidade de materiais didáticos e qualificação dos professores. Os dados foram coletados sobre 65.000 alunos de diferentes estados brasileiros entre os anos de 2018 e 2020.\"\n",
    "\n",
    "Com base no cenário anterior, responda as seguintes perguntas:\n",
    "\n",
    "- a) Qual é a principal questão de pesquisa que pode ser elaborada para esse estudo?\n",
    "- b) Quem são os objetos de interesse e quantos estão incluídos?\n",
    "- c) Quais são as variáveis? Identifique cada variável como numérica ou categórica. Se numérica, classifique-a em discreta ou contínua e, se categórica, em ordinal ou nominal.\n",
    "- d) Identifique a população de interesse e a amostra deste estudo.\n",
    "- e) Os resultados do estudo podem ser generalizados para a população?\n",
    "- f) Os resultados do estudo podem ser usados para estabelecer relações causais?"
   ]
  },
  {
   "cell_type": "markdown",
   "id": "bb16a11b-8519-43f2-a02d-c33b2fd1bc27",
   "metadata": {},
   "source": [
    "## Item a)\n",
    "\n",
    "_Qual a relação entre o desempenho acadêmico de estudantes do ensino fundamental e médio e as condições socioeconômicas de suas famílias e as características das escolas em que estudam no Brasil?_\n",
    "\n",
    "Outras questões que podem ser exploradas\n",
    "\n",
    "- a.1 Quais fatores socioeconômicos e escolares mais influenciam o desempenho acadêmico?\n",
    "- a.2 Existe diferença no desempenho acadêmico entre alunos de diferentes regiões do Brasil?\n",
    "- a.3 Há uma relação entre o nível socioeconômico e o acesso a recursos educacionais?"
   ]
  },
  {
   "cell_type": "markdown",
   "id": "3fa91d01-9769-4625-a78d-ef9140af2e7c",
   "metadata": {},
   "source": [
    "## Item b)\n",
    "\n",
    "_Quem são os objetos de interesse e quantos estão incluídos?_\n",
    "\n",
    "Os objetos de interesse são os alunos do ensino fundamental e médio. O estudo incluiu 65.000 alunos."
   ]
  },
  {
   "cell_type": "markdown",
   "id": "cd553de4-6a01-4824-8c48-97519f5fcb43",
   "metadata": {},
   "source": [
    "## Item c)\n",
    "\n",
    "- Discretas: Número de membros da família, nível de escolaridade dos pais (em anos), idade do aluno.\n",
    "- Contínuas: Renda familiar, notas médias em disciplinas (Matemática, Português, Ciências).\n",
    "- Variáveis categóricas:\n",
    "  - Nominais: Região do Brasil, sexo do aluno, escola (cada escola pode ser considerada uma categoria), estado civil dos pais.\n",
    "  - Ordinais: Nível socioeconômico (baixo, médio, alto), nível de satisfação com os recursos da escola (insatisfeito, satisfeito, muito satisfeito)."
   ]
  },
  {
   "cell_type": "markdown",
   "id": "6b778e01-06d7-4a1d-a96e-a77761675269",
   "metadata": {},
   "source": [
    "## Item d)\n",
    "\n",
    "- População de interesse: Todos os alunos do ensino fundamental e médio no Brasil.\n",
    "- Amostra: Os 65.000 alunos de diferentes estados brasileiros que participaram do estudo entre 2018 e 2020."
   ]
  },
  {
   "cell_type": "markdown",
   "id": "ad17cb1d-2b2f-4220-ba48-aae9d6fbc8e8",
   "metadata": {},
   "source": [
    "## Item e)\n",
    "\n",
    "Sim, os resultados podem ser generalizados para a população de alunos do ensino fundamental e médio no Brasil com algumas ressalvas. A generalização depende da representatividade da amostra em relação à população. Se a amostra foi selecionada de forma aleatória e abrange diferentes regiões e contextos socioeconômicos, a generalização é mais confiável. No entanto, é importante considerar que a generalização pode ser limitada por fatores como a representatividade regional e a variação temporal."
   ]
  },
  {
   "cell_type": "markdown",
   "id": "d57c40ff-3411-451b-8e8d-fc53e113a55a",
   "metadata": {},
   "source": [
    "## Item f)\n",
    "\n",
    "Estabelecer relações causais é mais complexo e requer um delineamento experimental mais rigoroso. Embora o estudo possa identificar correlações entre as variáveis, não garante uma relação de causa e efeito. Para estabelecer causalidade, seria necessário um experimento controlado, onde os pesquisadores manipulassem as variáveis independentes (como a renda familiar ou a qualidade da escola) e observassem o impacto no desempenho acadêmico.\n",
    "\n",
    "- Fatores que podem limitar a inferência causal:\n",
    "- Variaveis confundidoras: Outras variáveis não medidas, como a inteligência, a motivação e o tempo dedicado aos estudos, podem influenciar tanto o desempenho acadêmico quanto as condições socioeconômicas.\n",
    "- Direção da causalidade: A relação entre as variáveis pode ser bidirecional. Por exemplo, o baixo desempenho acadêmico pode levar a dificuldades financeiras na família, ou vice-versa.\n",
    "\n",
    "Para fortalecer a inferência causal, os pesquisadores podem:\n",
    "\n",
    "- Controlar por variáveis confundidoras: Incluir essas variáveis na análise estatística.\n",
    "- Utilizar modelos estatísticos mais sofisticados: Como modelos de equações estruturais ou modelos de regressão hierárquica.\n",
    "- Realizar análises de sensibilidade: Verificar como os resultados mudam quando diferentes modelos ou conjuntos de dados são utilizados.\n",
    "\n",
    "Em resumo, o estudo pode identificar associações entre as variáveis, mas não prova causalidade. Para estabelecer relações causais, seriam necessários estudos experimentais mais rigorosos.\n",
    "\n",
    "Análises adicionais que podem ser realizadas:\n",
    "\n",
    "- Análise exploratória de dados: Visualizar a distribuição das variáveis, identificar outliers e verificar a existência de relações não lineares.\n",
    "- Análise de regressão: Modelar a relação entre o desempenho acadêmico e as variáveis independentes, controlando por outras variáveis relevantes.\n",
    "- Análise de agrupamento: Identificar grupos de alunos com características similares em termos de desempenho acadêmico e condições socioeconômicas.\n",
    "- Análise de sobrevivência: Analisar a probabilidade de um aluno permanecer na escola ao longo do tempo."
   ]
  },
  {
   "cell_type": "markdown",
   "id": "117d6082-cc4a-4d8e-937e-22d999cc5c60",
   "metadata": {},
   "source": [
    "# Questão 2\n",
    "\n",
    "Encontre a média, a mediana e a moda das distribuições de dados apresentados nas tabelas a seguir.\n",
    "\n",
    "![Tabela de dados](tabela_dados_questao2.png)"
   ]
  },
  {
   "cell_type": "code",
   "execution_count": 3,
   "id": "acaf3108-d03b-4ac4-b2f1-6fd5d2da7a7c",
   "metadata": {},
   "outputs": [],
   "source": [
    "import numpy as np\n",
    "dados = np.array([6, 1, 1, 10, 6, 4, 8, 1, 6, 2,\\\n",
    "                1, 4, 10, 0, 4, 9, 5, 6, 4, 9,\\\n",
    "                10, 1, 6, 7, 6, 1, 4, 3, 6, 0,\\\n",
    "                2, 4, 5, 5, 5, 2, 9, 0, 6, 8,\\\n",
    "                1, 8, 4, 6, 1, 1, 8, 7, 4, 3])"
   ]
  },
  {
   "cell_type": "markdown",
   "id": "59c19af6-56ac-40fe-8802-81631027052a",
   "metadata": {},
   "source": [
    "## Média"
   ]
  },
  {
   "cell_type": "code",
   "execution_count": 5,
   "id": "9eea455a-dccb-41c4-bd35-01d92361539b",
   "metadata": {},
   "outputs": [
    {
     "data": {
      "text/plain": [
       "4.6"
      ]
     },
     "execution_count": 5,
     "metadata": {},
     "output_type": "execute_result"
    }
   ],
   "source": [
    "np.mean(dados)"
   ]
  },
  {
   "cell_type": "markdown",
   "id": "65c50aac-8d35-47e0-b5c4-9195adea9d5a",
   "metadata": {},
   "source": [
    "## Mediana"
   ]
  },
  {
   "cell_type": "code",
   "execution_count": 6,
   "id": "4c1f2d70-4f91-44b3-8f39-8c7747f7ddd3",
   "metadata": {},
   "outputs": [
    {
     "data": {
      "text/plain": [
       "4.5"
      ]
     },
     "execution_count": 6,
     "metadata": {},
     "output_type": "execute_result"
    }
   ],
   "source": [
    "np.median(dados)"
   ]
  },
  {
   "cell_type": "markdown",
   "id": "f3ebf807-d4a5-419b-8928-222a91c84ed9",
   "metadata": {},
   "source": [
    "## Moda"
   ]
  },
  {
   "cell_type": "code",
   "execution_count": 8,
   "id": "d204a085-1264-47c4-8451-54917f363829",
   "metadata": {},
   "outputs": [
    {
     "data": {
      "text/html": [
       "<div>\n",
       "<style scoped>\n",
       "    .dataframe tbody tr th:only-of-type {\n",
       "        vertical-align: middle;\n",
       "    }\n",
       "\n",
       "    .dataframe tbody tr th {\n",
       "        vertical-align: top;\n",
       "    }\n",
       "\n",
       "    .dataframe thead th {\n",
       "        text-align: right;\n",
       "    }\n",
       "</style>\n",
       "<table border=\"1\" class=\"dataframe\">\n",
       "  <thead>\n",
       "    <tr style=\"text-align: right;\">\n",
       "      <th></th>\n",
       "      <th>dados</th>\n",
       "    </tr>\n",
       "  </thead>\n",
       "  <tbody>\n",
       "    <tr>\n",
       "      <th>0</th>\n",
       "      <td>6</td>\n",
       "    </tr>\n",
       "    <tr>\n",
       "      <th>1</th>\n",
       "      <td>1</td>\n",
       "    </tr>\n",
       "    <tr>\n",
       "      <th>2</th>\n",
       "      <td>1</td>\n",
       "    </tr>\n",
       "    <tr>\n",
       "      <th>3</th>\n",
       "      <td>10</td>\n",
       "    </tr>\n",
       "    <tr>\n",
       "      <th>4</th>\n",
       "      <td>6</td>\n",
       "    </tr>\n",
       "  </tbody>\n",
       "</table>\n",
       "</div>"
      ],
      "text/plain": [
       "   dados\n",
       "0      6\n",
       "1      1\n",
       "2      1\n",
       "3     10\n",
       "4      6"
      ]
     },
     "execution_count": 8,
     "metadata": {},
     "output_type": "execute_result"
    }
   ],
   "source": [
    "import pandas as pd\n",
    "\n",
    "df = pd.DataFrame({'dados':dados})\n",
    "df.head()"
   ]
  },
  {
   "cell_type": "code",
   "execution_count": 10,
   "id": "394f6df4-18d6-4535-b3f7-dfb9f80d0ce8",
   "metadata": {},
   "outputs": [
    {
     "data": {
      "text/html": [
       "<div>\n",
       "<style scoped>\n",
       "    .dataframe tbody tr th:only-of-type {\n",
       "        vertical-align: middle;\n",
       "    }\n",
       "\n",
       "    .dataframe tbody tr th {\n",
       "        vertical-align: top;\n",
       "    }\n",
       "\n",
       "    .dataframe thead th {\n",
       "        text-align: right;\n",
       "    }\n",
       "</style>\n",
       "<table border=\"1\" class=\"dataframe\">\n",
       "  <thead>\n",
       "    <tr style=\"text-align: right;\">\n",
       "      <th></th>\n",
       "      <th>dados</th>\n",
       "    </tr>\n",
       "  </thead>\n",
       "  <tbody>\n",
       "    <tr>\n",
       "      <th>0</th>\n",
       "      <td>1</td>\n",
       "    </tr>\n",
       "    <tr>\n",
       "      <th>1</th>\n",
       "      <td>6</td>\n",
       "    </tr>\n",
       "  </tbody>\n",
       "</table>\n",
       "</div>"
      ],
      "text/plain": [
       "   dados\n",
       "0      1\n",
       "1      6"
      ]
     },
     "execution_count": 10,
     "metadata": {},
     "output_type": "execute_result"
    }
   ],
   "source": [
    "df.mode()"
   ]
  },
  {
   "cell_type": "markdown",
   "id": "c44df410-4579-47a2-aa7b-3171df132220",
   "metadata": {},
   "source": [
    "Portanto, são dois valores frequentes"
   ]
  },
  {
   "cell_type": "markdown",
   "id": "b2b018be-a9f3-45cd-b246-ea096beb8cf7",
   "metadata": {},
   "source": [
    "# Questão 3\n",
    "\n",
    "O artigo “Oxygen Consumpiton During Fire Suppression: Error of Heart Rate Estimation\" informou os dados a seguir sobre consumo de oxigênio ($mL$, $kg$, $min$) para uma mostra de 10 bombeiros em uma simulação de supressão de incêndios.\n",
    "\n",
    "`29,5 49,3 30,6 28,2 28,0 26,3 33,9 29,4 23,5 31,6`\n",
    "\n",
    "A partir dessa amostra de dados, calcule: \n",
    "\n",
    "- a) A amplitude amostral\n",
    "- b) A variância e o desvio padrão amostral"
   ]
  },
  {
   "cell_type": "code",
   "execution_count": 14,
   "id": "a301fca1-d2d8-4457-abc1-9892c95e84ac",
   "metadata": {},
   "outputs": [],
   "source": [
    "consumo_oxigenio = np.array([29.5, 49.3, 30.6, 28.2, 28.0, 26.3, 33.9, 29.4, 23.5, 31.6])"
   ]
  },
  {
   "cell_type": "markdown",
   "id": "d8e7d46f-602b-4c75-a7df-2f5e7058c2b2",
   "metadata": {},
   "source": [
    "## Amplitude amostra para o consumo de oxigênio"
   ]
  },
  {
   "cell_type": "code",
   "execution_count": 19,
   "id": "c7fff206-dd20-47a3-822b-14031337cf6a",
   "metadata": {},
   "outputs": [
    {
     "name": "stdout",
     "output_type": "stream",
     "text": [
      "Variância: 25.80\n"
     ]
    }
   ],
   "source": [
    "amplitude_amostral = np.ptp(consumo_oxigenio)\n",
    "print(f\"Variância: {amplitude_amostral:.2f}\")"
   ]
  },
  {
   "cell_type": "markdown",
   "id": "3a46e8de-430c-4167-ab43-7dfcbf0fc33d",
   "metadata": {},
   "source": [
    "## A variância e o desvio padrão amostral"
   ]
  },
  {
   "cell_type": "code",
   "execution_count": 18,
   "id": "54cc2ee1-87bb-4e1c-9a96-55413fb2a479",
   "metadata": {},
   "outputs": [
    {
     "name": "stdout",
     "output_type": "stream",
     "text": [
      "Variância: 44.38\n"
     ]
    }
   ],
   "source": [
    "variancia = np.var(consumo_oxigenio)\n",
    "print(f\"Variância: {variancia:.2f}\")"
   ]
  },
  {
   "cell_type": "markdown",
   "id": "d8360ce9-a55e-46d4-8fee-732f94a200f9",
   "metadata": {},
   "source": [
    "# Questão 4\n",
    "\n",
    "Analise a base de dados do Microdados do Censo Escolar da Educação Básica 2023, disponível no [link](https://download.inep.gov.br/dados_abertos/microdados_censo_escolar_2023.zip) Responda as seguintes perguntas sobre essa base de dados:\n",
    "\n",
    "- a) Quais questões de pesquisa poderiam ser interessantes de serem realizadas a partir dessa base de dados?\n",
    "- b) Usando a biblioteca do Pandas e outras que julgar necessária e realize as seguintes análises. OBS: Para os itens iii até vi, considere somente as escolas do Espírito Santo.\n",
    "  - i. Essa base de dados tem quantos registros?\n",
    "  - ii. Essa base de dados tem quantos atributos?\n",
    "  - iii. Quantas escolas e cidades distintas estão na base de dados?\n",
    "  - iv. Qual a distribuição de escolas por tipo de localização (Urbana ou Rural)?\n",
    "  - v. Qual o percentual de escolas que tem acesso à Internet?\n",
    "  - vi. Qual a média, variância e desvio padrão do número de matriculas dos alunos do 1o ao 9o por ano?"
   ]
  },
  {
   "cell_type": "markdown",
   "id": "ae33ef51-1a41-40ff-8bf3-86ebd25890e5",
   "metadata": {},
   "source": [
    "## Importanto os dados"
   ]
  },
  {
   "cell_type": "code",
   "execution_count": 27,
   "id": "6de3e311-8e16-48c9-ab0b-a1ca2a779b2e",
   "metadata": {},
   "outputs": [
    {
     "name": "stderr",
     "output_type": "stream",
     "text": [
      "/tmp/ipykernel_2408/537482709.py:2: DtypeWarning: Columns (31) have mixed types. Specify dtype option on import or set low_memory=False.\n",
      "  dataset = pd.read_csv(caminho_dado, sep=';', encoding='iso-8859-1')\n"
     ]
    }
   ],
   "source": [
    "caminho_dado = \"../../datasets/microdados_ed_basica_2023.csv\"\n",
    "dataset = pd.read_csv(caminho_dado, sep=';', encoding='iso-8859-1')"
   ]
  },
  {
   "cell_type": "code",
   "execution_count": 28,
   "id": "9c84940f-7487-4b78-8f13-083520cfc1b2",
   "metadata": {},
   "outputs": [
    {
     "data": {
      "text/html": [
       "<div>\n",
       "<style scoped>\n",
       "    .dataframe tbody tr th:only-of-type {\n",
       "        vertical-align: middle;\n",
       "    }\n",
       "\n",
       "    .dataframe tbody tr th {\n",
       "        vertical-align: top;\n",
       "    }\n",
       "\n",
       "    .dataframe thead th {\n",
       "        text-align: right;\n",
       "    }\n",
       "</style>\n",
       "<table border=\"1\" class=\"dataframe\">\n",
       "  <thead>\n",
       "    <tr style=\"text-align: right;\">\n",
       "      <th></th>\n",
       "      <th>NU_ANO_CENSO</th>\n",
       "      <th>NO_REGIAO</th>\n",
       "      <th>CO_REGIAO</th>\n",
       "      <th>NO_UF</th>\n",
       "      <th>SG_UF</th>\n",
       "      <th>CO_UF</th>\n",
       "      <th>NO_MUNICIPIO</th>\n",
       "      <th>CO_MUNICIPIO</th>\n",
       "      <th>NO_REGIAO_GEOG_INTERM</th>\n",
       "      <th>CO_REGIAO_GEOG_INTERM</th>\n",
       "      <th>...</th>\n",
       "      <th>QT_TUR_BAS_D</th>\n",
       "      <th>QT_TUR_BAS_N</th>\n",
       "      <th>QT_TUR_BAS_EAD</th>\n",
       "      <th>QT_TUR_INF_INT</th>\n",
       "      <th>QT_TUR_INF_CRE_INT</th>\n",
       "      <th>QT_TUR_INF_PRE_INT</th>\n",
       "      <th>QT_TUR_FUND_INT</th>\n",
       "      <th>QT_TUR_FUND_AI_INT</th>\n",
       "      <th>QT_TUR_FUND_AF_INT</th>\n",
       "      <th>QT_TUR_MED_INT</th>\n",
       "    </tr>\n",
       "  </thead>\n",
       "  <tbody>\n",
       "    <tr>\n",
       "      <th>0</th>\n",
       "      <td>2023</td>\n",
       "      <td>Norte</td>\n",
       "      <td>1</td>\n",
       "      <td>Rondônia</td>\n",
       "      <td>RO</td>\n",
       "      <td>11</td>\n",
       "      <td>Porto Velho</td>\n",
       "      <td>1100205</td>\n",
       "      <td>Porto Velho</td>\n",
       "      <td>1101</td>\n",
       "      <td>...</td>\n",
       "      <td>14.0</td>\n",
       "      <td>0.0</td>\n",
       "      <td>0.0</td>\n",
       "      <td>0.0</td>\n",
       "      <td>0.0</td>\n",
       "      <td>0.0</td>\n",
       "      <td>1.0</td>\n",
       "      <td>1.0</td>\n",
       "      <td>0.0</td>\n",
       "      <td>0.0</td>\n",
       "    </tr>\n",
       "    <tr>\n",
       "      <th>1</th>\n",
       "      <td>2023</td>\n",
       "      <td>Norte</td>\n",
       "      <td>1</td>\n",
       "      <td>Rondônia</td>\n",
       "      <td>RO</td>\n",
       "      <td>11</td>\n",
       "      <td>Porto Velho</td>\n",
       "      <td>1100205</td>\n",
       "      <td>Porto Velho</td>\n",
       "      <td>1101</td>\n",
       "      <td>...</td>\n",
       "      <td>12.0</td>\n",
       "      <td>0.0</td>\n",
       "      <td>0.0</td>\n",
       "      <td>0.0</td>\n",
       "      <td>0.0</td>\n",
       "      <td>0.0</td>\n",
       "      <td>0.0</td>\n",
       "      <td>0.0</td>\n",
       "      <td>0.0</td>\n",
       "      <td>0.0</td>\n",
       "    </tr>\n",
       "    <tr>\n",
       "      <th>2</th>\n",
       "      <td>2023</td>\n",
       "      <td>Norte</td>\n",
       "      <td>1</td>\n",
       "      <td>Rondônia</td>\n",
       "      <td>RO</td>\n",
       "      <td>11</td>\n",
       "      <td>Porto Velho</td>\n",
       "      <td>1100205</td>\n",
       "      <td>Porto Velho</td>\n",
       "      <td>1101</td>\n",
       "      <td>...</td>\n",
       "      <td>38.0</td>\n",
       "      <td>0.0</td>\n",
       "      <td>0.0</td>\n",
       "      <td>0.0</td>\n",
       "      <td>0.0</td>\n",
       "      <td>0.0</td>\n",
       "      <td>0.0</td>\n",
       "      <td>0.0</td>\n",
       "      <td>0.0</td>\n",
       "      <td>0.0</td>\n",
       "    </tr>\n",
       "    <tr>\n",
       "      <th>3</th>\n",
       "      <td>2023</td>\n",
       "      <td>Norte</td>\n",
       "      <td>1</td>\n",
       "      <td>Rondônia</td>\n",
       "      <td>RO</td>\n",
       "      <td>11</td>\n",
       "      <td>Porto Velho</td>\n",
       "      <td>1100205</td>\n",
       "      <td>Porto Velho</td>\n",
       "      <td>1101</td>\n",
       "      <td>...</td>\n",
       "      <td>5.0</td>\n",
       "      <td>0.0</td>\n",
       "      <td>0.0</td>\n",
       "      <td>0.0</td>\n",
       "      <td>0.0</td>\n",
       "      <td>0.0</td>\n",
       "      <td>0.0</td>\n",
       "      <td>0.0</td>\n",
       "      <td>0.0</td>\n",
       "      <td>0.0</td>\n",
       "    </tr>\n",
       "    <tr>\n",
       "      <th>4</th>\n",
       "      <td>2023</td>\n",
       "      <td>Norte</td>\n",
       "      <td>1</td>\n",
       "      <td>Rondônia</td>\n",
       "      <td>RO</td>\n",
       "      <td>11</td>\n",
       "      <td>Porto Velho</td>\n",
       "      <td>1100205</td>\n",
       "      <td>Porto Velho</td>\n",
       "      <td>1101</td>\n",
       "      <td>...</td>\n",
       "      <td>27.0</td>\n",
       "      <td>0.0</td>\n",
       "      <td>0.0</td>\n",
       "      <td>0.0</td>\n",
       "      <td>0.0</td>\n",
       "      <td>0.0</td>\n",
       "      <td>0.0</td>\n",
       "      <td>0.0</td>\n",
       "      <td>0.0</td>\n",
       "      <td>0.0</td>\n",
       "    </tr>\n",
       "  </tbody>\n",
       "</table>\n",
       "<p>5 rows × 408 columns</p>\n",
       "</div>"
      ],
      "text/plain": [
       "   NU_ANO_CENSO NO_REGIAO  CO_REGIAO     NO_UF SG_UF  CO_UF NO_MUNICIPIO  \\\n",
       "0          2023     Norte          1  Rondônia    RO     11  Porto Velho   \n",
       "1          2023     Norte          1  Rondônia    RO     11  Porto Velho   \n",
       "2          2023     Norte          1  Rondônia    RO     11  Porto Velho   \n",
       "3          2023     Norte          1  Rondônia    RO     11  Porto Velho   \n",
       "4          2023     Norte          1  Rondônia    RO     11  Porto Velho   \n",
       "\n",
       "   CO_MUNICIPIO NO_REGIAO_GEOG_INTERM  CO_REGIAO_GEOG_INTERM  ...  \\\n",
       "0       1100205           Porto Velho                   1101  ...   \n",
       "1       1100205           Porto Velho                   1101  ...   \n",
       "2       1100205           Porto Velho                   1101  ...   \n",
       "3       1100205           Porto Velho                   1101  ...   \n",
       "4       1100205           Porto Velho                   1101  ...   \n",
       "\n",
       "  QT_TUR_BAS_D  QT_TUR_BAS_N QT_TUR_BAS_EAD  QT_TUR_INF_INT  \\\n",
       "0         14.0           0.0            0.0             0.0   \n",
       "1         12.0           0.0            0.0             0.0   \n",
       "2         38.0           0.0            0.0             0.0   \n",
       "3          5.0           0.0            0.0             0.0   \n",
       "4         27.0           0.0            0.0             0.0   \n",
       "\n",
       "  QT_TUR_INF_CRE_INT  QT_TUR_INF_PRE_INT  QT_TUR_FUND_INT QT_TUR_FUND_AI_INT  \\\n",
       "0                0.0                 0.0              1.0                1.0   \n",
       "1                0.0                 0.0              0.0                0.0   \n",
       "2                0.0                 0.0              0.0                0.0   \n",
       "3                0.0                 0.0              0.0                0.0   \n",
       "4                0.0                 0.0              0.0                0.0   \n",
       "\n",
       "   QT_TUR_FUND_AF_INT  QT_TUR_MED_INT  \n",
       "0                 0.0             0.0  \n",
       "1                 0.0             0.0  \n",
       "2                 0.0             0.0  \n",
       "3                 0.0             0.0  \n",
       "4                 0.0             0.0  \n",
       "\n",
       "[5 rows x 408 columns]"
      ]
     },
     "execution_count": 28,
     "metadata": {},
     "output_type": "execute_result"
    }
   ],
   "source": [
    "dataset.head()"
   ]
  },
  {
   "cell_type": "markdown",
   "id": "26bff568-e886-4944-8c6e-47e65949b65f",
   "metadata": {},
   "source": [
    "## Item b.i\n",
    "\n",
    "Essa base de dados tem quantos registros?"
   ]
  },
  {
   "cell_type": "code",
   "execution_count": 33,
   "id": "7a1e3d05-7e41-4fa2-80c1-6fa4aa42d123",
   "metadata": {},
   "outputs": [
    {
     "name": "stdout",
     "output_type": "stream",
     "text": [
      "A base tem 217625 registros\n"
     ]
    }
   ],
   "source": [
    "print(f'A base tem {dataset.shape[0]} registros')"
   ]
  },
  {
   "cell_type": "markdown",
   "id": "46bb3dbd-bcba-4020-85bd-c92a1b4c41f4",
   "metadata": {},
   "source": [
    "## Item b.ii\n",
    "\n",
    "Essa base de dados tem quantos atributos?"
   ]
  },
  {
   "cell_type": "code",
   "execution_count": 34,
   "id": "b68e7ba7-1216-4083-9153-41de06940bcc",
   "metadata": {},
   "outputs": [
    {
     "name": "stdout",
     "output_type": "stream",
     "text": [
      "A base tem 408 atributos\n"
     ]
    }
   ],
   "source": [
    "print(f'A base tem {dataset.shape[1]} atributos')"
   ]
  },
  {
   "cell_type": "markdown",
   "id": "99fc87de-4bc1-4789-bf33-f179b2c6f45f",
   "metadata": {},
   "source": [
    "## Item b.iii\n",
    "\n",
    "Quantas escolas e cidades distintas estão na base de dados, para o *Espírtio Santo*"
   ]
  },
  {
   "cell_type": "markdown",
   "id": "70d2e2f6-a043-459a-a3e7-2fd0d979c88c",
   "metadata": {},
   "source": [
    "### Escolas do Espírito Santo"
   ]
  },
  {
   "cell_type": "code",
   "execution_count": 55,
   "id": "9f4e23a1-76c3-4d99-bb93-7b71d7033a43",
   "metadata": {},
   "outputs": [
    {
     "name": "stdout",
     "output_type": "stream",
     "text": [
      "Há 4037 escolas do Espírito Santo na base\n"
     ]
    }
   ],
   "source": [
    "dataset_es = dataset[dataset['SG_UF'] == 'ES']\n",
    "#cidades_es\n",
    "print(f\"Há {dataset_es['CO_ENTIDADE'].nunique()} escolas do Espírito Santo na base\")"
   ]
  },
  {
   "cell_type": "markdown",
   "id": "073d6941-3e46-4a43-a741-454a220516bc",
   "metadata": {},
   "source": [
    "### Cidades do Espírito Santo"
   ]
  },
  {
   "cell_type": "code",
   "execution_count": 56,
   "id": "fc4498e5-de39-4be7-864c-3df872792b9e",
   "metadata": {},
   "outputs": [
    {
     "name": "stdout",
     "output_type": "stream",
     "text": [
      "Há 78 cidades do Espírito Santo na base\n"
     ]
    }
   ],
   "source": [
    "print(f\"Há {dataset_es['CO_MUNICIPIO'].nunique()} cidades do Espírito Santo na base\")"
   ]
  },
  {
   "cell_type": "markdown",
   "id": "2c8860a9-b8fa-47d2-b786-342d3af42475",
   "metadata": {},
   "source": [
    "## Item b.iv\n",
    "\n",
    "Qual a distribuição de escolas por tipo de localização (Urbana ou Rural)?"
   ]
  },
  {
   "cell_type": "code",
   "execution_count": 87,
   "id": "5a38fc51-c4b2-4340-8f98-ad1647b01505",
   "metadata": {},
   "outputs": [],
   "source": [
    "grupos_localizacao = dataset_es.groupby('TP_LOCALIZACAO')"
   ]
  },
  {
   "cell_type": "code",
   "execution_count": 88,
   "id": "84dc2523-fadd-4c04-8d08-741b4349c716",
   "metadata": {},
   "outputs": [
    {
     "name": "stdout",
     "output_type": "stream",
     "text": [
      "Urbana:  2506\n",
      "Rural:  1531\n"
     ]
    }
   ],
   "source": [
    "for localizacao, df_loc in grupos_localizacao:\n",
    "    if localizacao == 1:\n",
    "        print('Urbana: ', df_loc['CO_ENTIDADE'].count())\n",
    "    if localizacao == 2:\n",
    "        print('Rural: ', df_loc['CO_ENTIDADE'].count())"
   ]
  },
  {
   "cell_type": "markdown",
   "id": "78f771c5-8997-49b3-ae82-7c0016fbf22d",
   "metadata": {},
   "source": [
    "## Item b.v\n",
    "\n",
    "Qual o percentual de escolas que tem acesso à Internet?\n",
    "\n",
    "Obs.: serão removidos os registros sem informação (NaN)"
   ]
  },
  {
   "cell_type": "code",
   "execution_count": 89,
   "id": "5840a256-f14b-499f-ad38-89b8d53ba029",
   "metadata": {},
   "outputs": [
    {
     "name": "stdout",
     "output_type": "stream",
     "text": [
      "Percentual de escolas da base com acesso à internet: 94.9%\n"
     ]
    }
   ],
   "source": [
    "com_acesso = dataset_es['IN_INTERNET'].dropna().sum()\n",
    "total = len(dataset_es['IN_INTERNET'].dropna())\n",
    "\n",
    "percentual = com_acesso / total * 100\n",
    "print(f'Percentual de escolas da base com acesso à internet: {percentual:.1f}%')"
   ]
  },
  {
   "cell_type": "markdown",
   "id": "5541bcb1-b5b8-4f30-a6d0-5187bd12c99a",
   "metadata": {},
   "source": [
    "## Item b.vi\n",
    "\n",
    "Qual a média, variância e desvio padrão do número de matriculas dos alunos do 1o ao 9o por ano?"
   ]
  },
  {
   "cell_type": "code",
   "execution_count": 92,
   "id": "65173a09-941f-47c5-9da7-5045f539fb90",
   "metadata": {},
   "outputs": [],
   "source": [
    "# Dataframe para armazenar o número de matrículas\n",
    "df_alunos_fundamental = dataset_es[['QT_MAT_FUND_AI_1',\n",
    "                                    'QT_MAT_FUND_AI_2',\n",
    "                                    'QT_MAT_FUND_AI_3',\n",
    "                                    'QT_MAT_FUND_AI_4',\n",
    "                                    'QT_MAT_FUND_AI_5',\n",
    "                                    'QT_MAT_FUND_AF_6',\n",
    "                                    'QT_MAT_FUND_AF_7',\n",
    "                                    'QT_MAT_FUND_AF_8',\n",
    "                                    'QT_MAT_FUND_AF_9']]"
   ]
  },
  {
   "cell_type": "code",
   "execution_count": 93,
   "id": "2e83f409-c83d-454d-8526-385a527bf5bb",
   "metadata": {},
   "outputs": [],
   "source": [
    "# Calcular a média, removendo os NaNs, para cada um dos anos\n",
    "media = df_alunos_fundamental.mean(axis=0, skipna=True)\n",
    "variancia = df_alunos_fundamental.var(axis=0, skipna=True)\n",
    "desvio_padrao = df_alunos_fundamental.std(axis=0, skipna=True)"
   ]
  },
  {
   "cell_type": "code",
   "execution_count": 94,
   "id": "5720b6a5-b8a7-4107-9d04-1b3a03850bdd",
   "metadata": {},
   "outputs": [
    {
     "data": {
      "text/plain": [
       "QT_MAT_FUND_AI_1    17.642928\n",
       "QT_MAT_FUND_AI_2    18.974495\n",
       "QT_MAT_FUND_AI_3    19.716131\n",
       "QT_MAT_FUND_AI_4    18.485922\n",
       "QT_MAT_FUND_AI_5    18.117257\n",
       "QT_MAT_FUND_AF_6    19.539583\n",
       "QT_MAT_FUND_AF_7    18.559126\n",
       "QT_MAT_FUND_AF_8    17.542895\n",
       "QT_MAT_FUND_AF_9    16.495197\n",
       "dtype: float64"
      ]
     },
     "execution_count": 94,
     "metadata": {},
     "output_type": "execute_result"
    }
   ],
   "source": []
  },
  {
   "cell_type": "code",
   "execution_count": 95,
   "id": "f92efce1-0f84-4185-be4d-a9f373ec5de2",
   "metadata": {},
   "outputs": [],
   "source": [
    "# Criando um novo dataframe com a média, variância e\n",
    "# desvio padrão\n",
    "resultado = pd.DataFrame({'Média': media, 'Variância': variancia, 'Desvio Padrão': desvio_padrao})"
   ]
  },
  {
   "cell_type": "code",
   "execution_count": 99,
   "id": "5d536a50-a529-4537-9752-715af0b47934",
   "metadata": {},
   "outputs": [
    {
     "data": {
      "text/html": [
       "<div>\n",
       "<style scoped>\n",
       "    .dataframe tbody tr th:only-of-type {\n",
       "        vertical-align: middle;\n",
       "    }\n",
       "\n",
       "    .dataframe tbody tr th {\n",
       "        vertical-align: top;\n",
       "    }\n",
       "\n",
       "    .dataframe thead th {\n",
       "        text-align: right;\n",
       "    }\n",
       "</style>\n",
       "<table border=\"1\" class=\"dataframe\">\n",
       "  <thead>\n",
       "    <tr style=\"text-align: right;\">\n",
       "      <th></th>\n",
       "      <th>Média</th>\n",
       "      <th>Variância</th>\n",
       "      <th>Desvio Padrão</th>\n",
       "    </tr>\n",
       "  </thead>\n",
       "  <tbody>\n",
       "    <tr>\n",
       "      <th>QT_MAT_FUND_AI_1</th>\n",
       "      <td>17.64</td>\n",
       "      <td>947.85</td>\n",
       "      <td>30.79</td>\n",
       "    </tr>\n",
       "    <tr>\n",
       "      <th>QT_MAT_FUND_AI_2</th>\n",
       "      <td>18.97</td>\n",
       "      <td>1078.42</td>\n",
       "      <td>32.84</td>\n",
       "    </tr>\n",
       "    <tr>\n",
       "      <th>QT_MAT_FUND_AI_3</th>\n",
       "      <td>19.72</td>\n",
       "      <td>1126.73</td>\n",
       "      <td>33.57</td>\n",
       "    </tr>\n",
       "    <tr>\n",
       "      <th>QT_MAT_FUND_AI_4</th>\n",
       "      <td>18.49</td>\n",
       "      <td>1000.81</td>\n",
       "      <td>31.64</td>\n",
       "    </tr>\n",
       "    <tr>\n",
       "      <th>QT_MAT_FUND_AI_5</th>\n",
       "      <td>18.12</td>\n",
       "      <td>999.22</td>\n",
       "      <td>31.61</td>\n",
       "    </tr>\n",
       "    <tr>\n",
       "      <th>QT_MAT_FUND_AF_6</th>\n",
       "      <td>19.54</td>\n",
       "      <td>1639.99</td>\n",
       "      <td>40.50</td>\n",
       "    </tr>\n",
       "    <tr>\n",
       "      <th>QT_MAT_FUND_AF_7</th>\n",
       "      <td>18.56</td>\n",
       "      <td>1396.70</td>\n",
       "      <td>37.37</td>\n",
       "    </tr>\n",
       "    <tr>\n",
       "      <th>QT_MAT_FUND_AF_8</th>\n",
       "      <td>17.54</td>\n",
       "      <td>1258.07</td>\n",
       "      <td>35.47</td>\n",
       "    </tr>\n",
       "    <tr>\n",
       "      <th>QT_MAT_FUND_AF_9</th>\n",
       "      <td>16.50</td>\n",
       "      <td>1165.48</td>\n",
       "      <td>34.14</td>\n",
       "    </tr>\n",
       "  </tbody>\n",
       "</table>\n",
       "</div>"
      ],
      "text/plain": [
       "                  Média  Variância  Desvio Padrão\n",
       "QT_MAT_FUND_AI_1  17.64     947.85          30.79\n",
       "QT_MAT_FUND_AI_2  18.97    1078.42          32.84\n",
       "QT_MAT_FUND_AI_3  19.72    1126.73          33.57\n",
       "QT_MAT_FUND_AI_4  18.49    1000.81          31.64\n",
       "QT_MAT_FUND_AI_5  18.12     999.22          31.61\n",
       "QT_MAT_FUND_AF_6  19.54    1639.99          40.50\n",
       "QT_MAT_FUND_AF_7  18.56    1396.70          37.37\n",
       "QT_MAT_FUND_AF_8  17.54    1258.07          35.47\n",
       "QT_MAT_FUND_AF_9  16.50    1165.48          34.14"
      ]
     },
     "execution_count": 99,
     "metadata": {},
     "output_type": "execute_result"
    }
   ],
   "source": [
    "resultado.round(2)"
   ]
  },
  {
   "cell_type": "code",
   "execution_count": null,
   "id": "5810b28c-c039-4ead-a0b0-6295e7ca29c8",
   "metadata": {},
   "outputs": [],
   "source": []
  }
 ],
 "metadata": {
  "kernelspec": {
   "display_name": "Python 3 (ipykernel)",
   "language": "python",
   "name": "python3"
  },
  "language_info": {
   "codemirror_mode": {
    "name": "ipython",
    "version": 3
   },
   "file_extension": ".py",
   "mimetype": "text/x-python",
   "name": "python",
   "nbconvert_exporter": "python",
   "pygments_lexer": "ipython3",
   "version": "3.8.10"
  }
 },
 "nbformat": 4,
 "nbformat_minor": 5
}
